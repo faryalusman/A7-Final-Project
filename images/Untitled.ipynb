{
 "cells": [
  {
   "cell_type": "code",
   "execution_count": 1,
   "metadata": {},
   "outputs": [],
   "source": [
    "import pandas as pd\n",
    "c = pd.read_csv('charitable.csv')"
   ]
  },
  {
   "cell_type": "code",
   "execution_count": 12,
   "metadata": {},
   "outputs": [
    {
     "name": "stdout",
     "output_type": "stream",
     "text": [
      "Untitled.ipynb charitable.csv\r\n"
     ]
    }
   ],
   "source": [
    "!ls"
   ]
  },
  {
   "cell_type": "code",
   "execution_count": 10,
   "metadata": {},
   "outputs": [
    {
     "ename": "NameError",
     "evalue": "name 'pd' is not defined",
     "output_type": "error",
     "traceback": [
      "\u001b[0;31m---------------------------------------------------------------------------\u001b[0m",
      "\u001b[0;31mNameError\u001b[0m                                 Traceback (most recent call last)",
      "\u001b[0;32m<ipython-input-10-ab8bb3fa7040>\u001b[0m in \u001b[0;36m<module>\u001b[0;34m\u001b[0m\n\u001b[0;32m----> 1\u001b[0;31m \u001b[0mc\u001b[0m \u001b[0;34m=\u001b[0m \u001b[0mpd\u001b[0m\u001b[0;34m.\u001b[0m\u001b[0mread_csv\u001b[0m\u001b[0;34m(\u001b[0m\u001b[0;34m'charitable.csv'\u001b[0m\u001b[0;34m)\u001b[0m\u001b[0;34m\u001b[0m\u001b[0;34m\u001b[0m\u001b[0m\n\u001b[0m",
      "\u001b[0;31mNameError\u001b[0m: name 'pd' is not defined"
     ]
    }
   ],
   "source": []
  },
  {
   "cell_type": "code",
   "execution_count": 95,
   "metadata": {},
   "outputs": [],
   "source": [
    "#c"
   ]
  },
  {
   "cell_type": "code",
   "execution_count": null,
   "metadata": {},
   "outputs": [],
   "source": [
    "# treat ratio 2 \n",
    "# treat ratio 3\n",
    "#-------\n",
    "# Test 4 conditions for maximum matching grant amount:\n",
    "    #- 25k\n",
    "    #50k \n",
    "    #100k\n",
    "    #and unstated"
   ]
  },
  {
   "cell_type": "code",
   "execution_count": 98,
   "metadata": {},
   "outputs": [
    {
     "data": {
      "text/plain": [
       "0    38949\n",
       "1    11134\n",
       "Name: treat_askd1, dtype: int64"
      ]
     },
     "execution_count": 98,
     "metadata": {},
     "output_type": "execute_result"
    }
   ],
   "source": [
    "c['treat_askd1'].value_counts()"
   ]
  },
  {
   "cell_type": "code",
   "execution_count": 2,
   "metadata": {},
   "outputs": [],
   "source": [
    "def gen_treatment(data):\n",
    "    item_dict = {'treatment': 'Treatment 1', \n",
    "                'treat_ratio2': 'Treatment 2', \n",
    "                'treat_ratio3': 'Treatment 3'}\n",
    "    #def gen_row(',')\n",
    "        "
   ]
  },
  {
   "cell_type": "code",
   "execution_count": null,
   "metadata": {},
   "outputs": [],
   "source": []
  },
  {
   "cell_type": "code",
   "execution_count": null,
   "metadata": {},
   "outputs": [],
   "source": [
    "def gen_treatment(data):\n",
    "    col1, col2, col3 = 'treatment', 'treat_ratio2', 'treat_ratio3'\n",
    "    data['Treatment condition'] = \\\n",
    "    data.apply(lambda x: )"
   ]
  },
  {
   "cell_type": "code",
   "execution_count": 113,
   "metadata": {},
   "outputs": [],
   "source": [
    "# c.columns['treatment']"
   ]
  },
  {
   "cell_type": "code",
   "execution_count": 115,
   "metadata": {},
   "outputs": [],
   "source": [
    "#  def f(x):    \n",
    "#    ....:  return x[0] + x[1]  \n",
    "#    ....:  \n",
    "\n",
    "# In [51]: df.apply(f, axis=1) #passes a Series object, row-wise\n",
    "# Out[51]: \n",
    "# 0    1.000000\n",
    "# 1    0.076619\n",
    "# 2    1.000000\n",
    "# 3    1.646622\n",
    "# 4    1.000000"
   ]
  },
  {
   "cell_type": "code",
   "execution_count": 123,
   "metadata": {},
   "outputs": [
    {
     "data": {
      "text/plain": [
       "1"
      ]
     },
     "execution_count": 123,
     "metadata": {},
     "output_type": "execute_result"
    }
   ],
   "source": [
    "c.columns.get_loc('treat_ratio2')"
   ]
  },
  {
   "cell_type": "code",
   "execution_count": 153,
   "metadata": {},
   "outputs": [
    {
     "data": {
      "text/plain": [
       "0        0\n",
       "1        0\n",
       "2        1\n",
       "3        1\n",
       "4        1\n",
       "        ..\n",
       "50078    1\n",
       "50079    0\n",
       "50080    0\n",
       "50081    1\n",
       "50082    1\n",
       "Name: treatment, Length: 50083, dtype: int64"
      ]
     },
     "execution_count": 153,
     "metadata": {},
     "output_type": "execute_result"
    }
   ],
   "source": [
    "c.treatment"
   ]
  },
  {
   "cell_type": "code",
   "execution_count": 3,
   "metadata": {},
   "outputs": [],
   "source": [
    "def process_ratio(data):\n",
    "    ratio_condition = None\n",
    "    \n",
    "    if data['treat_ratio2'] == 1:\n",
    "        ratio_condition = '2:1 Ratio'\n",
    "    elif data['treat_ratio3'] == 1:\n",
    "        ratio_condition = '3:1 Ratio'\n",
    "    else:\n",
    "        ratio_condition = '1:1 Ratio'\n",
    "        \n",
    "    \n",
    "    return ratio_condition "
   ]
  },
  {
   "cell_type": "code",
   "execution_count": 4,
   "metadata": {},
   "outputs": [],
   "source": [
    "def process_treatment(data):\n",
    "    treatment_condition = None\n",
    "    \n",
    "    if data['treatment'] == 1:\n",
    "        treatment_condition = 'Treatment 1'\n",
    "    elif data['treatment'] == 0:\n",
    "        treatment_condition = 'Treatment 2'\n",
    "#     else:\n",
    "#         treatment_condtion = 'Treatment 0'\n",
    "    \n",
    "    return treatment_condition"
   ]
  },
  {
   "cell_type": "code",
   "execution_count": 168,
   "metadata": {},
   "outputs": [
    {
     "data": {
      "text/plain": [
       "Index(['treatment', 'treat_ratio2', 'treat_ratio3', 'treat_size25',\n",
       "       'treat_size50', 'treat_size100', 'treat_sizeno', 'treat_askd1',\n",
       "       'treat_askd2', 'treat_askd3', 'out_amountgive', 'out_gavedum',\n",
       "       'out_changeamtgive', 'hpa', 'ltmedmra', 'freq', 'years', 'year5',\n",
       "       'mrm2', 'dormant', 'female', 'couple', 'state50one', 'nonlit', 'cases',\n",
       "       'statecnt', 'stateresponse', 'stateresponset', 'stateresponsec',\n",
       "       'stateresponsetminc', 'perbush', 'close25', 'red0', 'blue0', 'redcty',\n",
       "       'bluecty', 'pwhite', 'pblack', 'page18_39', 'ave_hh_sz',\n",
       "       'median_hhincome', 'powner', 'psch_atlstba', 'pop_propurban',\n",
       "       'Treatment condition', 'Ratio condition'],\n",
       "      dtype='object')"
      ]
     },
     "execution_count": 168,
     "metadata": {},
     "output_type": "execute_result"
    }
   ],
   "source": [
    "c.columns"
   ]
  },
  {
   "cell_type": "code",
   "execution_count": 201,
   "metadata": {},
   "outputs": [
    {
     "data": {
      "text/plain": [
       "1    33396\n",
       "0    16687\n",
       "Name: treatment, dtype: int64"
      ]
     },
     "execution_count": 201,
     "metadata": {},
     "output_type": "execute_result"
    }
   ],
   "source": [
    "c['treatment'].value_counts()"
   ]
  },
  {
   "cell_type": "code",
   "execution_count": 200,
   "metadata": {},
   "outputs": [
    {
     "data": {
      "text/plain": [
       "Index(['treatment', 'treat_ratio2', 'treat_ratio3', 'treat_size25',\n",
       "       'treat_size50', 'treat_size100', 'treat_sizeno', 'treat_askd1',\n",
       "       'treat_askd2', 'treat_askd3', 'out_amountgive', 'out_gavedum',\n",
       "       'out_changeamtgive', 'hpa', 'ltmedmra', 'freq', 'years', 'year5',\n",
       "       'mrm2', 'dormant', 'female', 'couple', 'state50one', 'nonlit', 'cases',\n",
       "       'statecnt', 'stateresponse', 'stateresponset', 'stateresponsec',\n",
       "       'stateresponsetminc', 'perbush', 'close25', 'red0', 'blue0', 'redcty',\n",
       "       'bluecty', 'pwhite', 'pblack', 'page18_39', 'ave_hh_sz',\n",
       "       'median_hhincome', 'powner', 'psch_atlstba', 'pop_propurban',\n",
       "       'Treatment condition', 'Ratio condition', 'Treatment size'],\n",
       "      dtype='object')"
      ]
     },
     "execution_count": 200,
     "metadata": {},
     "output_type": "execute_result"
    }
   ],
   "source": [
    "c.columns"
   ]
  },
  {
   "cell_type": "code",
   "execution_count": 5,
   "metadata": {},
   "outputs": [],
   "source": [
    "def process_size(data):\n",
    "    treatment_size = None\n",
    "    \n",
    "    if data['treat_size25'] == 1:\n",
    "        treatment_size = 'Grant amount size: 25'\n",
    "    elif data['treat_size50'] == 1:\n",
    "        treatment_size = 'Grant amount size: 50'\n",
    "    elif data['treat_size100'] == 1:\n",
    "        treatment_size = 'Grant amount size: 100'\n",
    "    elif data['treat_sizeno'] == 1:\n",
    "        treatment_size = 'Grant amount size: None'\n",
    "    \n",
    "    return treatment_size"
   ]
  },
  {
   "cell_type": "code",
   "execution_count": 6,
   "metadata": {},
   "outputs": [],
   "source": [
    "def process_suggested_size(data):\n",
    "    suggested_size = None\n",
    "    \n",
    "    if data['treat_askd1'] == 1:\n",
    "        suggested_size = 'Suggested size : Highest previous contribution'\n",
    "    elif data['treat_askd2'] == 1:\n",
    "        suggested_size = 'Suggested size : 1.25 * Highest previous contribution'\n",
    "    elif data['treat_askd3'] == 1:\n",
    "        suggested_size = 'Suggested size : 1.75 * Highest previous contribution'\n",
    "    return suggested_size"
   ]
  },
  {
   "cell_type": "code",
   "execution_count": 7,
   "metadata": {},
   "outputs": [],
   "source": [
    "def process_state_info(data):\n",
    "    state_aff = None\n",
    "    if data['red0'] == 1:\n",
    "        state_aff = 'Red'\n",
    "    elif data['blue0'] ==1:\n",
    "        state_aff = 'Blue'\n",
    "    return state_aff "
   ]
  },
  {
   "cell_type": "code",
   "execution_count": 8,
   "metadata": {},
   "outputs": [],
   "source": [
    "def process_county_info(data):\n",
    "    county_aff = None\n",
    "    if data['redcty'] == 1:\n",
    "        county_aff = 'Red'\n",
    "    elif data['bluecty'] ==1:\n",
    "        county_aff = 'Blue'\n",
    "    return county_aff \n",
    "\n",
    "    "
   ]
  },
  {
   "cell_type": "code",
   "execution_count": null,
   "metadata": {},
   "outputs": [],
   "source": []
  },
  {
   "cell_type": "code",
   "execution_count": 9,
   "metadata": {},
   "outputs": [],
   "source": [
    "c['Ratio condition'] = c.apply(lambda x: process_ratio(x), axis=1)\n",
    "c['Treatment condition'] =  c.apply(lambda x: process_treatment(x), axis=1)\n",
    "c['Treatment size'] = c.apply(lambda x: process_size(x), axis=1)\n",
    "c['Suggested size'] = c.apply(lambda x: process_suggested_size(x), axis=1)\n",
    "c['State political affiliation'] = c.apply(lambda x: process_state_info(x), axis=1)\n",
    "c['County political affiliation'] = c.apply(lambda x: process_county_info(x), axis=1)"
   ]
  },
  {
   "cell_type": "code",
   "execution_count": 10,
   "metadata": {},
   "outputs": [],
   "source": [
    "import matplotlib.pyplot as plt"
   ]
  },
  {
   "cell_type": "code",
   "execution_count": 258,
   "metadata": {},
   "outputs": [
    {
     "data": {
      "text/plain": [
       "Text(0.5, 1.0, 'Black spenders by county')"
      ]
     },
     "execution_count": 258,
     "metadata": {},
     "output_type": "execute_result"
    },
    {
     "data": {
      "image/png": "[encoded data removed]",
      "text/plain": [
       "<Figure size 720x720 with 1 Axes>"
      ]
     },
     "metadata": {
      "needs_background": "light"
     },
     "output_type": "display_data"
    }
   ],
   "source": []
  },
  {
   "cell_type": "code",
   "execution_count": 259,
   "metadata": {},
   "outputs": [
    {
     "data": {
      "text/plain": [
       "Index(['treatment', 'treat_ratio2', 'treat_ratio3', 'treat_size25',\n",
       "       'treat_size50', 'treat_size100', 'treat_sizeno', 'treat_askd1',\n",
       "       'treat_askd2', 'treat_askd3', 'out_amountgive', 'out_gavedum',\n",
       "       'out_changeamtgive', 'hpa', 'ltmedmra', 'freq', 'years', 'year5',\n",
       "       'mrm2', 'dormant', 'female', 'couple', 'state50one', 'nonlit', 'cases',\n",
       "       'statecnt', 'stateresponse', 'stateresponset', 'stateresponsec',\n",
       "       'stateresponsetminc', 'perbush', 'close25', 'red0', 'blue0', 'redcty',\n",
       "       'bluecty', 'pwhite', 'pblack', 'page18_39', 'ave_hh_sz',\n",
       "       'median_hhincome', 'powner', 'psch_atlstba', 'pop_propurban',\n",
       "       'Treatment condition', 'Ratio condition', 'Treatment size',\n",
       "       'Suggested size', 'State political affiliation',\n",
       "       'County political affiliation'],\n",
       "      dtype='object')"
      ]
     },
     "execution_count": 259,
     "metadata": {},
     "output_type": "execute_result"
    }
   ],
   "source": [
    "c.columns"
   ]
  },
  {
   "cell_type": "code",
   "execution_count": 25,
   "metadata": {},
   "outputs": [
    {
     "data": {
      "text/plain": [
       "Text(0.5, 1.0, 'White vs. non-white spenders by county')"
      ]
     },
     "execution_count": 25,
     "metadata": {},
     "output_type": "execute_result"
    },
    {
     "data": {
      "image/png": "[encoded data removed]",
      "text/plain": [
       "<Figure size 720x720 with 1 Axes>"
      ]
     },
     "metadata": {
      "needs_background": "light"
     },
     "output_type": "display_data"
    }
   ],
   "source": [
    "import seaborn as sns \n",
    "plt.figure(figsize=(10,10))\n",
    "g =sns.scatterplot(x=\"pwhite\", y=\"out_amountgive\",\n",
    "              hue=\"bluecty\",\n",
    "              data=c, palette=['red', 'blue'])\n",
    "plt.title('White vs. non-white spenders by county')\n",
    "#g.set(xscale=\"log\");\n"
   ]
  },
  {
   "cell_type": "code",
   "execution_count": 270,
   "metadata": {},
   "outputs": [
    {
     "data": {
      "text/plain": [
       "Text(0.5, 1.0, 'White vs. non-white spenders by county')"
      ]
     },
     "execution_count": 270,
     "metadata": {},
     "output_type": "execute_result"
    },
    {
     "data": {
      "image/png": "[encoded data removed]",
      "text/plain": [
       "<Figure size 720x720 with 1 Axes>"
      ]
     },
     "metadata": {
      "needs_background": "light"
     },
     "output_type": "display_data"
    }
   ],
   "source": [
    "import seaborn as sns \n",
    "plt.figure(figsize=(10,10))\n",
    "g =sns.scatterplot(x=\"pwhite\", y=\"out_amountgive\",\n",
    "              hue=\"blue0\",\n",
    "              data=c, palette=['red', 'blue'])\n",
    "plt.title('White vs. non-white spenders by county')\n",
    "#g.set(xscale=\"log\");\n",
    "\n",
    "\n"
   ]
  },
  {
   "cell_type": "code",
   "execution_count": 280,
   "metadata": {},
   "outputs": [
    {
     "data": {
      "text/plain": [
       "Text(0.5, 1.0, 'Gender spenders by county')"
      ]
     },
     "execution_count": 280,
     "metadata": {},
     "output_type": "execute_result"
    },
    {
     "data": {
      "image/png": "[encoded data removed]",
      "text/plain": [
       "<Figure size 720x720 with 1 Axes>"
      ]
     },
     "metadata": {
      "needs_background": "light"
     },
     "output_type": "display_data"
    }
   ],
   "source": [
    "import seaborn as sns \n",
    "plt.figure(figsize=(10,10))\n",
    "g =sns.scatterplot(x=\"female\", y=\"out_gavedum\",\n",
    "              hue=\"blue0\",\n",
    "              data=c, palette=['red', 'blue'])\n",
    "plt.title('Gender spenders by county')"
   ]
  },
  {
   "cell_type": "code",
   "execution_count": 26,
   "metadata": {},
   "outputs": [
    {
     "data": {
      "text/plain": [
       "Text(0.5, 1.0, 'Gender spenders by county')"
      ]
     },
     "execution_count": 26,
     "metadata": {},
     "output_type": "execute_result"
    },
    {
     "data": {
      "image/png": "[encoded data removed]",
      "text/plain": [
       "<Figure size 720x720 with 1 Axes>"
      ]
     },
     "metadata": {
      "needs_background": "light"
     },
     "output_type": "display_data"
    }
   ],
   "source": [
    "import seaborn as sns \n",
    "plt.figure(figsize=(10,10))\n",
    "g =sns.scatterplot(x=\"female\", y=\"out_amountgive\",\n",
    "              hue=\"blue0\",\n",
    "              data=c, palette=['red', 'blue'])\n",
    "plt.title('Gender spenders by county')"
   ]
  },
  {
   "cell_type": "code",
   "execution_count": 68,
   "metadata": {},
   "outputs": [],
   "source": [
    "#c.columns"
   ]
  },
  {
   "cell_type": "code",
   "execution_count": 35,
   "metadata": {},
   "outputs": [],
   "source": [
    "gender_give_pol = c[['State political affiliation', 'female', 'out_amountgive']]"
   ]
  },
  {
   "cell_type": "code",
   "execution_count": 51,
   "metadata": {},
   "outputs": [
    {
     "data": {
      "text/plain": [
       "<matplotlib.axes._subplots.AxesSubplot at 0x7ff4c704d040>"
      ]
     },
     "execution_count": 51,
     "metadata": {},
     "output_type": "execute_result"
    },
    {
     "data": {
      "image/png": "[encoded data removed]",
      "text/plain": [
       "<Figure size 432x288 with 1 Axes>"
      ]
     },
     "metadata": {
      "needs_background": "light"
     },
     "output_type": "display_data"
    }
   ],
   "source": [
    "sns.violinplot(x='female', y='out_amountgive', hue='State political affiliation', \\\n",
    "               split=True, data=gender_give_pol, figsize=(10,10))"
   ]
  },
  {
   "cell_type": "code",
   "execution_count": 69,
   "metadata": {},
   "outputs": [
    {
     "data": {
      "text/plain": [
       "<matplotlib.axes._subplots.AxesSubplot at 0x7ff4c9e80b80>"
      ]
     },
     "execution_count": 69,
     "metadata": {},
     "output_type": "execute_result"
    },
    {
     "data": {
      "image/png": "[encoded data removed]",
      "text/plain": [
       "<Figure size 720x720 with 1 Axes>"
      ]
     },
     "metadata": {
      "needs_background": "light"
     },
     "output_type": "display_data"
    }
   ],
   "source": [
    "gender_give_pol_2 = gender_give_pol[gender_give_pol.out_amountgive > 0]\n",
    "plt.figure(figsize=(10,10))\n",
    "sns.violinplot(x='female', y='out_amountgive', hue='State political affiliation', \\\n",
    "               split=True, data=gender_give_pol_2, figsize=(10,10))"
   ]
  },
  {
   "cell_type": "code",
   "execution_count": 75,
   "metadata": {},
   "outputs": [],
   "source": [
    "gender_give_county = c[['County political affiliation', 'female', 'out_amountgive']]"
   ]
  },
  {
   "cell_type": "code",
   "execution_count": 76,
   "metadata": {},
   "outputs": [
    {
     "data": {
      "text/plain": [
       "<matplotlib.axes._subplots.AxesSubplot at 0x7ff4ca548b80>"
      ]
     },
     "execution_count": 76,
     "metadata": {},
     "output_type": "execute_result"
    },
    {
     "data": {
      "image/png": "[encoded data removed]",
      "text/plain": [
       "<Figure size 432x288 with 1 Axes>"
      ]
     },
     "metadata": {
      "needs_background": "light"
     },
     "output_type": "display_data"
    }
   ],
   "source": [
    "sns.violinplot(x='female', y='out_amountgive', hue='County political affiliation', \\\n",
    "               split=True, data=gender_give_county)"
   ]
  },
  {
   "cell_type": "code",
   "execution_count": 77,
   "metadata": {},
   "outputs": [],
   "source": [
    "#gender_give_county_2"
   ]
  },
  {
   "cell_type": "code",
   "execution_count": 78,
   "metadata": {},
   "outputs": [
    {
     "data": {
      "text/plain": [
       "<matplotlib.axes._subplots.AxesSubplot at 0x7ff4ca7ddcd0>"
      ]
     },
     "execution_count": 78,
     "metadata": {},
     "output_type": "execute_result"
    },
    {
     "data": {
      "image/png": "[encoded data removed]",
      "text/plain": [
       "<Figure size 720x720 with 1 Axes>"
      ]
     },
     "metadata": {
      "needs_background": "light"
     },
     "output_type": "display_data"
    }
   ],
   "source": [
    "gender_give_county_2 = gender_give_county[gender_give_county.out_amountgive > 0]\n",
    "plt.figure(figsize=(10,10))\n",
    "sns.violinplot(x='female', y='out_amountgive', hue='County political affiliation', \\\n",
    "               split=True, data=gender_give_county_2)"
   ]
  },
  {
   "cell_type": "code",
   "execution_count": 83,
   "metadata": {},
   "outputs": [],
   "source": [
    "#c['pwhite']"
   ]
  },
  {
   "cell_type": "code",
   "execution_count": 87,
   "metadata": {},
   "outputs": [],
   "source": [
    "race_give_state = c[['State political ', 'pwhite', 'out_amountgive']]\n",
    "race_give_county = c[['female', 'pwhite', 'out_amountgive']]\n",
    "#race_give_gender  = c[['female', 'pwhite', 'out_amountgive']]"
   ]
  },
  {
   "cell_type": "code",
   "execution_count": 89,
   "metadata": {},
   "outputs": [
    {
     "data": {
      "text/plain": [
       "Index(['treatment', 'treat_ratio2', 'treat_ratio3', 'treat_size25',\n",
       "       'treat_size50', 'treat_size100', 'treat_sizeno', 'treat_askd1',\n",
       "       'treat_askd2', 'treat_askd3', 'out_amountgive', 'out_gavedum',\n",
       "       'out_changeamtgive', 'hpa', 'ltmedmra', 'freq', 'years', 'year5',\n",
       "       'mrm2', 'dormant', 'female', 'couple', 'state50one', 'nonlit', 'cases',\n",
       "       'statecnt', 'stateresponse', 'stateresponset', 'stateresponsec',\n",
       "       'stateresponsetminc', 'perbush', 'close25', 'red0', 'blue0', 'redcty',\n",
       "       'bluecty', 'pwhite', 'pblack', 'page18_39', 'ave_hh_sz',\n",
       "       'median_hhincome', 'powner', 'psch_atlstba', 'pop_propurban',\n",
       "       'Ratio condition', 'Treatment condition', 'Treatment size',\n",
       "       'Suggested size', 'State political affiliation',\n",
       "       'County political affiliation'],\n",
       "      dtype='object')"
      ]
     },
     "execution_count": 89,
     "metadata": {},
     "output_type": "execute_result"
    }
   ],
   "source": [
    "c.columns"
   ]
  },
  {
   "cell_type": "code",
   "execution_count": 92,
   "metadata": {},
   "outputs": [
    {
     "data": {
      "text/plain": [
       "<matplotlib.axes._subplots.AxesSubplot at 0x7ff4cce66f10>"
      ]
     },
     "execution_count": 92,
     "metadata": {},
     "output_type": "execute_result"
    },
    {
     "data": {
      "image/png": "[encoded data removed]",
      "text/plain": [
       "<Figure size 432x288 with 1 Axes>"
      ]
     },
     "metadata": {
      "needs_background": "light"
     },
     "output_type": "display_data"
    }
   ],
   "source": [
    "#race_give_gender\n",
    "sns.violinplot(x='female', y='out_amountgive', hue='couple', \\\n",
    "               split=True, data=c[c.out_amountgive > 0])"
   ]
  },
  {
   "cell_type": "code",
   "execution_count": null,
   "metadata": {},
   "outputs": [],
   "source": [
    "sns.violinplot(x='female', y='out_amountgive', hue='couple', \\\n",
    "               split=True, data=c[c.out_amountgive > 0])"
   ]
  },
  {
   "cell_type": "code",
   "execution_count": 95,
   "metadata": {},
   "outputs": [
    {
     "data": {
      "text/plain": [
       "Index(['treatment', 'treat_ratio2', 'treat_ratio3', 'treat_size25',\n",
       "       'treat_size50', 'treat_size100', 'treat_sizeno', 'treat_askd1',\n",
       "       'treat_askd2', 'treat_askd3', 'out_amountgive', 'out_gavedum',\n",
       "       'out_changeamtgive', 'hpa', 'ltmedmra', 'freq', 'years', 'year5',\n",
       "       'mrm2', 'dormant', 'female', 'couple', 'state50one', 'nonlit', 'cases',\n",
       "       'statecnt', 'stateresponse', 'stateresponset', 'stateresponsec',\n",
       "       'stateresponsetminc', 'perbush', 'close25', 'red0', 'blue0', 'redcty',\n",
       "       'bluecty', 'pwhite', 'pblack', 'page18_39', 'ave_hh_sz',\n",
       "       'median_hhincome', 'powner', 'psch_atlstba', 'pop_propurban',\n",
       "       'Ratio condition', 'Treatment condition', 'Treatment size',\n",
       "       'Suggested size', 'State political affiliation',\n",
       "       'County political affiliation'],\n",
       "      dtype='object')"
      ]
     },
     "execution_count": 95,
     "metadata": {},
     "output_type": "execute_result"
    }
   ],
   "source": [
    "c.columns"
   ]
  },
  {
   "cell_type": "code",
   "execution_count": 120,
   "metadata": {},
   "outputs": [],
   "source": [
    "# What is the difference in median household income and avergae house hold size\\\n",
    "    # when compared with --> female, couple, red0, blue0, redcty\n",
    "# x: female and y: avg_hh_size and x: medina hh income and y female no twokring\n",
    "# x: female and y: prob urban with hue red county / red state not working"
   ]
  },
  {
   "cell_type": "code",
   "execution_count": 141,
   "metadata": {},
   "outputs": [],
   "source": [
    "# sns.violinplot(x='female', y='pop_propurban',hue='red0',\n",
    "#                split=True, data=c[c.out_amountgive > 0])"
   ]
  },
  {
   "cell_type": "code",
   "execution_count": 144,
   "metadata": {},
   "outputs": [],
   "source": [
    "# import missingno as msno\n",
    "# msno.matrix(c)"
   ]
  },
  {
   "cell_type": "code",
   "execution_count": 146,
   "metadata": {},
   "outputs": [
    {
     "data": {
      "text/plain": [
       "<matplotlib.axes._subplots.AxesSubplot at 0x7ff4ccc88910>"
      ]
     },
     "execution_count": 146,
     "metadata": {},
     "output_type": "execute_result"
    },
    {
     "data": {
      "image/png": "[encoded data removed]",
      "text/plain": [
       "<Figure size 432x288 with 1 Axes>"
      ]
     },
     "metadata": {
      "needs_background": "light"
     },
     "output_type": "display_data"
    }
   ],
   "source": [
    "sns.violinplot(x='female', y='pop_propurban',hue='red0',\n",
    "               split=True, data=c[c.out_amountgive > 0])"
   ]
  },
  {
   "cell_type": "code",
   "execution_count": 150,
   "metadata": {},
   "outputs": [
    {
     "data": {
      "text/plain": [
       "<matplotlib.axes._subplots.AxesSubplot at 0x7ff4a28ca130>"
      ]
     },
     "execution_count": 150,
     "metadata": {},
     "output_type": "execute_result"
    },
    {
     "data": {
      "image/png": "[encoded data removed]",
      "text/plain": [
       "<Figure size 432x288 with 1 Axes>"
      ]
     },
     "metadata": {
      "needs_background": "light"
     },
     "output_type": "display_data"
    }
   ],
   "source": [
    "sns.violinplot(x='couple', y='out_amountgive',\n",
    "               split=True, data=c[c.out_amountgive > 0])\n",
    "# couples are giving a lot less "
   ]
  },
  {
   "cell_type": "code",
   "execution_count": 154,
   "metadata": {},
   "outputs": [
    {
     "data": {
      "text/plain": [
       "<matplotlib.axes._subplots.AxesSubplot at 0x7ff4a2be7ca0>"
      ]
     },
     "execution_count": 154,
     "metadata": {},
     "output_type": "execute_result"
    },
    {
     "data": {
      "image/png": "[encoded data removed]",
      "text/plain": [
       "<Figure size 432x288 with 1 Axes>"
      ]
     },
     "metadata": {
      "needs_background": "light"
     },
     "output_type": "display_data"
    }
   ],
   "source": [
    "sns.violinplot(x='couple', y='out_amountgive',hue='female',\n",
    "               split=True, data=c[c.out_amountgive > 0])\n",
    "# couples are giving a lot less "
   ]
  },
  {
   "cell_type": "code",
   "execution_count": 172,
   "metadata": {},
   "outputs": [
    {
     "data": {
      "text/plain": [
       "<matplotlib.axes._subplots.AxesSubplot at 0x7ff49de753a0>"
      ]
     },
     "execution_count": 172,
     "metadata": {},
     "output_type": "execute_result"
    },
    {
     "data": {
      "image/png": "[encoded data removed]",
      "text/plain": [
       "<Figure size 720x720 with 1 Axes>"
      ]
     },
     "metadata": {
      "needs_background": "light"
     },
     "output_type": "display_data"
    }
   ],
   "source": [
    "plt.figure(figsize=(10,10))\n",
    "sns.scatterplot(x='powner', y='out_amountgive', data=c, hue='blue0', \\\n",
    "                palette=['red', 'blue'])"
   ]
  },
  {
   "cell_type": "code",
   "execution_count": 179,
   "metadata": {},
   "outputs": [
    {
     "data": {
      "text/plain": [
       "<matplotlib.axes._subplots.AxesSubplot at 0x7ff49e490190>"
      ]
     },
     "execution_count": 179,
     "metadata": {},
     "output_type": "execute_result"
    },
    {
     "data": {
      "image/png": "[encoded data removed]",
      "text/plain": [
       "<Figure size 432x288 with 1 Axes>"
      ]
     },
     "metadata": {
      "needs_background": "light"
     },
     "output_type": "display_data"
    }
   ],
   "source": [
    "sns.violinplot(x='out_gavedum', y='powner',hue='red0',\n",
    "               split=True, data=c)"
   ]
  },
  {
   "cell_type": "code",
   "execution_count": 184,
   "metadata": {},
   "outputs": [
    {
     "data": {
      "text/plain": [
       "(0.0, 0.0)"
      ]
     },
     "execution_count": 184,
     "metadata": {},
     "output_type": "execute_result"
    }
   ],
   "source": [
    "c.red0.min(), c.red0.median() "
   ]
  },
  {
   "cell_type": "code",
   "execution_count": 176,
   "metadata": {},
   "outputs": [],
   "source": [
    "# plt.figure(figsize=(10,10))\n",
    "# sns.scatterplot(x='out_gavedum', y='powner', data=c, hue='blue0', \\\n",
    "#                 palette=['red', 'blue'])"
   ]
  },
  {
   "cell_type": "code",
   "execution_count": 160,
   "metadata": {},
   "outputs": [],
   "source": [
    "# sns.violinplot(x='couple', y='out_amountgive',hue='female',\n",
    "#                split=True, data=c[(c.female == 1) & (c.out_amountgive>0)])"
   ]
  },
  {
   "cell_type": "code",
   "execution_count": null,
   "metadata": {},
   "outputs": [],
   "source": [
    "# want to look at the means of giving for \n",
    "    # red county female\n",
    "    # red county male \n",
    "    # red state male \n",
    "    # red state female "
   ]
  },
  {
   "cell_type": "code",
   "execution_count": 162,
   "metadata": {},
   "outputs": [
    {
     "data": {
      "text/plain": [
       "['page18_39']"
      ]
     },
     "execution_count": 162,
     "metadata": {},
     "output_type": "execute_result"
    }
   ],
   "source": [
    "[c_ for c_ in c.columns if 'age' in c_]"
   ]
  },
  {
   "cell_type": "code",
   "execution_count": 165,
   "metadata": {},
   "outputs": [
    {
     "data": {
      "text/plain": [
       "Index(['treatment', 'treat_ratio2', 'treat_ratio3', 'treat_size25',\n",
       "       'treat_size50', 'treat_size100', 'treat_sizeno', 'treat_askd1',\n",
       "       'treat_askd2', 'treat_askd3', 'out_amountgive', 'out_gavedum',\n",
       "       'out_changeamtgive', 'hpa', 'ltmedmra', 'freq', 'years', 'year5',\n",
       "       'mrm2', 'dormant', 'female', 'couple', 'state50one', 'nonlit', 'cases',\n",
       "       'statecnt', 'stateresponse', 'stateresponset', 'stateresponsec',\n",
       "       'stateresponsetminc', 'perbush', 'close25', 'red0', 'blue0', 'redcty',\n",
       "       'bluecty', 'pwhite', 'pblack', 'page18_39', 'ave_hh_sz',\n",
       "       'median_hhincome', 'powner', 'psch_atlstba', 'pop_propurban',\n",
       "       'Ratio condition', 'Treatment condition', 'Treatment size',\n",
       "       'Suggested size', 'State political affiliation',\n",
       "       'County political affiliation'],\n",
       "      dtype='object')"
      ]
     },
     "execution_count": 165,
     "metadata": {},
     "output_type": "execute_result"
    }
   ],
   "source": [
    "c.columns"
   ]
  },
  {
   "cell_type": "code",
   "execution_count": null,
   "metadata": {},
   "outputs": [],
   "source": []
  },
  {
   "cell_type": "code",
   "execution_count": null,
   "metadata": {},
   "outputs": [],
   "source": []
  },
  {
   "cell_type": "code",
   "execution_count": null,
   "metadata": {},
   "outputs": [],
   "source": []
  },
  {
   "cell_type": "code",
   "execution_count": null,
   "metadata": {},
   "outputs": [],
   "source": []
  },
  {
   "cell_type": "code",
   "execution_count": null,
   "metadata": {},
   "outputs": [],
   "source": []
  },
  {
   "cell_type": "code",
   "execution_count": null,
   "metadata": {},
   "outputs": [],
   "source": []
  },
  {
   "cell_type": "code",
   "execution_count": null,
   "metadata": {},
   "outputs": [],
   "source": []
  },
  {
   "cell_type": "code",
   "execution_count": null,
   "metadata": {},
   "outputs": [],
   "source": []
  },
  {
   "cell_type": "code",
   "execution_count": null,
   "metadata": {},
   "outputs": [],
   "source": []
  },
  {
   "cell_type": "code",
   "execution_count": null,
   "metadata": {},
   "outputs": [],
   "source": []
  },
  {
   "cell_type": "code",
   "execution_count": null,
   "metadata": {},
   "outputs": [],
   "source": []
  },
  {
   "cell_type": "code",
   "execution_count": null,
   "metadata": {},
   "outputs": [],
   "source": []
  },
  {
   "cell_type": "code",
   "execution_count": null,
   "metadata": {},
   "outputs": [],
   "source": []
  },
  {
   "cell_type": "code",
   "execution_count": null,
   "metadata": {},
   "outputs": [],
   "source": []
  },
  {
   "cell_type": "code",
   "execution_count": null,
   "metadata": {},
   "outputs": [],
   "source": []
  },
  {
   "cell_type": "code",
   "execution_count": null,
   "metadata": {},
   "outputs": [],
   "source": []
  },
  {
   "cell_type": "code",
   "execution_count": null,
   "metadata": {},
   "outputs": [],
   "source": []
  },
  {
   "cell_type": "code",
   "execution_count": null,
   "metadata": {},
   "outputs": [],
   "source": []
  },
  {
   "cell_type": "code",
   "execution_count": null,
   "metadata": {},
   "outputs": [],
   "source": []
  },
  {
   "cell_type": "code",
   "execution_count": null,
   "metadata": {},
   "outputs": [],
   "source": []
  },
  {
   "cell_type": "code",
   "execution_count": null,
   "metadata": {},
   "outputs": [],
   "source": []
  },
  {
   "cell_type": "code",
   "execution_count": 12,
   "metadata": {},
   "outputs": [],
   "source": [
    "gave2 = c.groupby(['out_gavedum', 'redcty', 'red0', \\\n",
    "                      'female', 'couple']).agg(['mean'])"
   ]
  },
  {
   "cell_type": "code",
   "execution_count": 13,
   "metadata": {},
   "outputs": [
    {
     "ename": "NameError",
     "evalue": "name 'sns' is not defined",
     "output_type": "error",
     "traceback": [
      "\u001b[0;31m---------------------------------------------------------------------------\u001b[0m",
      "\u001b[0;31mNameError\u001b[0m                                 Traceback (most recent call last)",
      "\u001b[0;32m<ipython-input-13-8f70386216f5>\u001b[0m in \u001b[0;36m<module>\u001b[0;34m\u001b[0m\n\u001b[0;32m----> 1\u001b[0;31m \u001b[0msns\u001b[0m\u001b[0;34m.\u001b[0m\u001b[0mheatmap\u001b[0m\u001b[0;34m(\u001b[0m\u001b[0mgave_2\u001b[0m\u001b[0;34m)\u001b[0m\u001b[0;34m\u001b[0m\u001b[0;34m\u001b[0m\u001b[0m\n\u001b[0m",
      "\u001b[0;31mNameError\u001b[0m: name 'sns' is not defined"
     ]
    }
   ],
   "source": [
    "sns.heatmap(gave_2)"
   ]
  },
  {
   "cell_type": "code",
   "execution_count": 104,
   "metadata": {},
   "outputs": [],
   "source": [
    "cols = ['pwhite', 'ave_hh_sz', 'median_hhincome', 'powner', 'psch_atlstba', \\\n",
    "       'pop_propurban']"
   ]
  },
  {
   "cell_type": "code",
   "execution_count": 109,
   "metadata": {},
   "outputs": [],
   "source": [
    "gave.reset_index(inplace=True)"
   ]
  },
  {
   "cell_type": "code",
   "execution_count": 113,
   "metadata": {},
   "outputs": [
    {
     "data": {
      "text/html": [
       "<div>\n",
       "<style scoped>\n",
       "    .dataframe tbody tr th:only-of-type {\n",
       "        vertical-align: middle;\n",
       "    }\n",
       "\n",
       "    .dataframe tbody tr th {\n",
       "        vertical-align: top;\n",
       "    }\n",
       "\n",
       "    .dataframe thead th {\n",
       "        text-align: right;\n",
       "    }\n",
       "</style>\n",
       "<table border=\"1\" class=\"dataframe\">\n",
       "  <thead>\n",
       "    <tr style=\"text-align: right;\">\n",
       "      <th></th>\n",
       "      <th>out_gavedum</th>\n",
       "      <th>treatment</th>\n",
       "      <th>treat_ratio2</th>\n",
       "      <th>treat_ratio3</th>\n",
       "      <th>treat_size25</th>\n",
       "      <th>treat_size50</th>\n",
       "      <th>treat_size100</th>\n",
       "      <th>treat_sizeno</th>\n",
       "      <th>treat_askd1</th>\n",
       "      <th>treat_askd2</th>\n",
       "      <th>...</th>\n",
       "      <th>redcty</th>\n",
       "      <th>bluecty</th>\n",
       "      <th>pwhite</th>\n",
       "      <th>pblack</th>\n",
       "      <th>page18_39</th>\n",
       "      <th>ave_hh_sz</th>\n",
       "      <th>median_hhincome</th>\n",
       "      <th>powner</th>\n",
       "      <th>psch_atlstba</th>\n",
       "      <th>pop_propurban</th>\n",
       "    </tr>\n",
       "  </thead>\n",
       "  <tbody>\n",
       "    <tr>\n",
       "      <th>0</th>\n",
       "      <td>0</td>\n",
       "      <td>0.665865</td>\n",
       "      <td>0.221860</td>\n",
       "      <td>0.221737</td>\n",
       "      <td>0.166568</td>\n",
       "      <td>0.166323</td>\n",
       "      <td>0.166487</td>\n",
       "      <td>0.166487</td>\n",
       "      <td>0.222186</td>\n",
       "      <td>0.221941</td>\n",
       "      <td>...</td>\n",
       "      <td>0.509725</td>\n",
       "      <td>0.489233</td>\n",
       "      <td>0.819642</td>\n",
       "      <td>0.086614</td>\n",
       "      <td>0.321921</td>\n",
       "      <td>2.428518</td>\n",
       "      <td>54818.883539</td>\n",
       "      <td>0.669115</td>\n",
       "      <td>0.392001</td>\n",
       "      <td>0.872154</td>\n",
       "    </tr>\n",
       "    <tr>\n",
       "      <th>1</th>\n",
       "      <td>1</td>\n",
       "      <td>0.711799</td>\n",
       "      <td>0.243714</td>\n",
       "      <td>0.244681</td>\n",
       "      <td>0.174081</td>\n",
       "      <td>0.180851</td>\n",
       "      <td>0.177950</td>\n",
       "      <td>0.178917</td>\n",
       "      <td>0.228240</td>\n",
       "      <td>0.238878</td>\n",
       "      <td>...</td>\n",
       "      <td>0.534951</td>\n",
       "      <td>0.464078</td>\n",
       "      <td>0.817529</td>\n",
       "      <td>0.091210</td>\n",
       "      <td>0.310986</td>\n",
       "      <td>2.452360</td>\n",
       "      <td>54665.434000</td>\n",
       "      <td>0.683744</td>\n",
       "      <td>0.375634</td>\n",
       "      <td>0.863186</td>\n",
       "    </tr>\n",
       "  </tbody>\n",
       "</table>\n",
       "<p>2 rows × 44 columns</p>\n",
       "</div>"
      ],
      "text/plain": [
       "   out_gavedum  treatment  treat_ratio2  treat_ratio3  treat_size25  \\\n",
       "0            0   0.665865      0.221860      0.221737      0.166568   \n",
       "1            1   0.711799      0.243714      0.244681      0.174081   \n",
       "\n",
       "   treat_size50  treat_size100  treat_sizeno  treat_askd1  treat_askd2  ...  \\\n",
       "0      0.166323       0.166487      0.166487     0.222186     0.221941  ...   \n",
       "1      0.180851       0.177950      0.178917     0.228240     0.238878  ...   \n",
       "\n",
       "     redcty   bluecty    pwhite    pblack  page18_39  ave_hh_sz  \\\n",
       "0  0.509725  0.489233  0.819642  0.086614   0.321921   2.428518   \n",
       "1  0.534951  0.464078  0.817529  0.091210   0.310986   2.452360   \n",
       "\n",
       "   median_hhincome    powner  psch_atlstba  pop_propurban  \n",
       "0     54818.883539  0.669115      0.392001       0.872154  \n",
       "1     54665.434000  0.683744      0.375634       0.863186  \n",
       "\n",
       "[2 rows x 44 columns]"
      ]
     },
     "execution_count": 113,
     "metadata": {},
     "output_type": "execute_result"
    }
   ],
   "source": [
    "gave"
   ]
  },
  {
   "cell_type": "code",
   "execution_count": 112,
   "metadata": {},
   "outputs": [
    {
     "data": {
      "text/plain": [
       "<matplotlib.axes._subplots.AxesSubplot at 0x7ff4afabfac0>"
      ]
     },
     "execution_count": 112,
     "metadata": {},
     "output_type": "execute_result"
    },
    {
     "data": {
      "image/png": "[encoded data removed]",
      "text/plain": [
       "<Figure size 432x288 with 1 Axes>"
      ]
     },
     "metadata": {
      "needs_background": "light"
     },
     "output_type": "display_data"
    }
   ],
   "source": [
    "#for col in cols:\n",
    "sns.violinplot(x='out_gavedum', y='pwhite', data=gave[gave.out_amountgive > 0])\n",
    "    "
   ]
  },
  {
   "cell_type": "code",
   "execution_count": 277,
   "metadata": {},
   "outputs": [],
   "source": [
    "# import seaborn as sns \n",
    "# plt.figure(figsize=(10,10))\n",
    "# g =sns.scatterplot(x=\"median_hhincome\", y=\"stateresponse\",\n",
    "#               data=c)\n",
    "# plt.title('State response by median hh income with size being average hh size')"
   ]
  },
  {
   "cell_type": "code",
   "execution_count": 204,
   "metadata": {},
   "outputs": [],
   "source": [
    "#c['Treatment size'].value_counts()"
   ]
  },
  {
   "cell_type": "code",
   "execution_count": 1,
   "metadata": {},
   "outputs": [],
   "source": [
    "#c[[c_ for c_ in c.columns if 'red' in c_]]"
   ]
  },
  {
   "cell_type": "code",
   "execution_count": 2,
   "metadata": {},
   "outputs": [],
   "source": [
    "#c[[c_ for c_ in c.columns if 'ask' in c_]]"
   ]
  },
  {
   "cell_type": "code",
   "execution_count": 3,
   "metadata": {},
   "outputs": [],
   "source": [
    "#c['treat_askd']"
   ]
  },
  {
   "cell_type": "code",
   "execution_count": 4,
   "metadata": {},
   "outputs": [],
   "source": [
    "#c.groupby(['Treatment condition'])['out_amountgive'].sum()"
   ]
  },
  {
   "cell_type": "code",
   "execution_count": 5,
   "metadata": {},
   "outputs": [],
   "source": [
    "#c['out_amountgive']"
   ]
  },
  {
   "cell_type": "code",
   "execution_count": 6,
   "metadata": {},
   "outputs": [],
   "source": [
    "#c[c.treat_ratio3 == 1]"
   ]
  },
  {
   "cell_type": "code",
   "execution_count": 116,
   "metadata": {},
   "outputs": [],
   "source": [
    "# c['new'] = c.apply(lambda x: 'Treatment 1' if x.treatment == 0 else \\\n",
    "#                    5)"
   ]
  },
  {
   "cell_type": "code",
   "execution_count": 7,
   "metadata": {},
   "outputs": [],
   "source": [
    "#c.columns"
   ]
  },
  {
   "cell_type": "code",
   "execution_count": 8,
   "metadata": {},
   "outputs": [],
   "source": [
    "# c['new'] = c.apply(lambda x: 'Treatment 1' if x.treatment == 0 else \\\n",
    "#                    ('Treatment 2' if x.treat_ratio2 == 1 \\\n",
    "#                    else 'Treatment 3'))"
   ]
  },
  {
   "cell_type": "raw",
   "metadata": {},
   "source": [
    "c.columns"
   ]
  },
  {
   "cell_type": "code",
   "execution_count": 9,
   "metadata": {},
   "outputs": [],
   "source": [
    "# c['red0']"
   ]
  },
  {
   "cell_type": "code",
   "execution_count": null,
   "metadata": {},
   "outputs": [],
   "source": []
  },
  {
   "cell_type": "code",
   "execution_count": null,
   "metadata": {},
   "outputs": [],
   "source": []
  },
  {
   "cell_type": "code",
   "execution_count": null,
   "metadata": {},
   "outputs": [],
   "source": []
  },
  {
   "cell_type": "code",
   "execution_count": null,
   "metadata": {},
   "outputs": [],
   "source": []
  },
  {
   "cell_type": "code",
   "execution_count": 30,
   "metadata": {},
   "outputs": [],
   "source": [
    "new_header = c.iloc[0] #grab the first row for the header\n",
    "c = c[1:] #take the data less the header row\n",
    "c.columns = new_header"
   ]
  },
  {
   "cell_type": "code",
   "execution_count": 31,
   "metadata": {},
   "outputs": [
    {
     "data": {
      "text/html": [
       "<div>\n",
       "<style scoped>\n",
       "    .dataframe tbody tr th:only-of-type {\n",
       "        vertical-align: middle;\n",
       "    }\n",
       "\n",
       "    .dataframe tbody tr th {\n",
       "        vertical-align: top;\n",
       "    }\n",
       "\n",
       "    .dataframe thead th {\n",
       "        text-align: right;\n",
       "    }\n",
       "</style>\n",
       "<table border=\"1\" class=\"dataframe\">\n",
       "  <thead>\n",
       "    <tr style=\"text-align: right;\">\n",
       "      <th></th>\n",
       "      <th></th>\n",
       "      <th></th>\n",
       "      <th></th>\n",
       "      <th></th>\n",
       "      <th></th>\n",
       "      <th></th>\n",
       "      <th></th>\n",
       "      <th></th>\n",
       "      <th></th>\n",
       "      <th></th>\n",
       "      <th></th>\n",
       "      <th></th>\n",
       "      <th></th>\n",
       "      <th></th>\n",
       "      <th></th>\n",
       "      <th></th>\n",
       "      <th></th>\n",
       "      <th></th>\n",
       "      <th></th>\n",
       "      <th></th>\n",
       "      <th></th>\n",
       "      <th></th>\n",
       "      <th></th>\n",
       "      <th></th>\n",
       "      <th></th>\n",
       "      <th></th>\n",
       "      <th></th>\n",
       "      <th></th>\n",
       "      <th></th>\n",
       "      <th></th>\n",
       "      <th></th>\n",
       "      <th></th>\n",
       "      <th></th>\n",
       "      <th></th>\n",
       "      <th></th>\n",
       "      <th></th>\n",
       "      <th></th>\n",
       "      <th></th>\n",
       "      <th></th>\n",
       "      <th></th>\n",
       "      <th></th>\n",
       "      <th>(\u000b",
       "\f",
       "_\u0010\u0013WebResourceMIMEType_\u0010\u001bWebResourceTextEncodingName^WebResourceURL_\u0010\u0014WebResourceFrameName_\u0010\u000fWebResourceDataZtext/plainUUTF-8_\u0010`https://raw.githubusercontent.com/gsbDBI/ExperimentData/master/Charitable/RawData/charitable.csvPO\u0012, treat_ratio2, treat_ratio3, treat_size25, treat_size50, treat_size100, treat_sizeno, treat_askd1, treat_askd2, treat_askd3, out_amountgive, out_gavedum, out_changeamtgive, hpa, ltmedmra, freq, years, year5, mrm2, dormant, female, couple, state50one, nonlit, cases, statecnt, stateresponse, stateresponset, stateresponsec, stateresponsetminc, perbush, close25, red0, blue0, redcty, bluecty, pwhite, pblack, page18_39, ave_hh_sz, median_hhincome, powner, psch_atlstba)</th>\n",
       "      <th>pop_propurban</th>\n",
       "    </tr>\n",
       "  </thead>\n",
       "  <tbody>\n",
       "    <tr>\n",
       "      <th rowspan=\"2\" valign=\"top\">0</th>\n",
       "      <th rowspan=\"2\" valign=\"top\">0</th>\n",
       "      <th rowspan=\"2\" valign=\"top\">0</th>\n",
       "      <th rowspan=\"2\" valign=\"top\">0</th>\n",
       "      <th rowspan=\"2\" valign=\"top\">0</th>\n",
       "      <th rowspan=\"2\" valign=\"top\">0</th>\n",
       "      <th rowspan=\"2\" valign=\"top\">0</th>\n",
       "      <th rowspan=\"2\" valign=\"top\">0</th>\n",
       "      <th rowspan=\"2\" valign=\"top\">0</th>\n",
       "      <th rowspan=\"2\" valign=\"top\">0</th>\n",
       "      <th rowspan=\"2\" valign=\"top\">0</th>\n",
       "      <th rowspan=\"2\" valign=\"top\">0</th>\n",
       "      <th>-45</th>\n",
       "      <th>45</th>\n",
       "      <th>0</th>\n",
       "      <th>2</th>\n",
       "      <th>4</th>\n",
       "      <th>0</th>\n",
       "      <th>31</th>\n",
       "      <th>1</th>\n",
       "      <th>0</th>\n",
       "      <th>0</th>\n",
       "      <th>0</th>\n",
       "      <th>5</th>\n",
       "      <th>4</th>\n",
       "      <th>4.5002995</th>\n",
       "      <th>.019946808</th>\n",
       "      <th>.019502353</th>\n",
       "      <th>.020806242</th>\n",
       "      <th>-.0013038889</th>\n",
       "      <th>.49000001</th>\n",
       "      <th>1</th>\n",
       "      <th>0</th>\n",
       "      <th>1</th>\n",
       "      <th>0</th>\n",
       "      <th>1</th>\n",
       "      <th>.44649345</th>\n",
       "      <th>.52776921</th>\n",
       "      <th>.31759128</th>\n",
       "      <th>2.0999999</th>\n",
       "      <th>28517</th>\n",
       "      <th>.49980718</th>\n",
       "      <th>.3245278</th>\n",
       "      <td>1</td>\n",
       "    </tr>\n",
       "    <tr>\n",
       "      <th>-25</th>\n",
       "      <th>25</th>\n",
       "      <th>1</th>\n",
       "      <th>2</th>\n",
       "      <th>3</th>\n",
       "      <th>0</th>\n",
       "      <th>5</th>\n",
       "      <th>0</th>\n",
       "      <th>0</th>\n",
       "      <th>0</th>\n",
       "      <th>0</th>\n",
       "      <th>0</th>\n",
       "      <th>2</th>\n",
       "      <th>2.9822462</th>\n",
       "      <th>.026086956</th>\n",
       "      <th>.027833002</th>\n",
       "      <th>.022494888</th>\n",
       "      <th>.0053381138</th>\n",
       "      <th>.46464646</th>\n",
       "      <th>0</th>\n",
       "      <th>0</th>\n",
       "      <th>1</th>\n",
       "      <th>1</th>\n",
       "      <th>0</th>\n",
       "      <th>NaN</th>\n",
       "      <th>NaN</th>\n",
       "      <th>NaN</th>\n",
       "      <th>NaN</th>\n",
       "      <th>NaN</th>\n",
       "      <th>NaN</th>\n",
       "      <th>NaN</th>\n",
       "      <td>NaN</td>\n",
       "    </tr>\n",
       "    <tr>\n",
       "      <th rowspan=\"3\" valign=\"top\">1</th>\n",
       "      <th rowspan=\"3\" valign=\"top\">0</th>\n",
       "      <th rowspan=\"3\" valign=\"top\">0</th>\n",
       "      <th rowspan=\"3\" valign=\"top\">0</th>\n",
       "      <th rowspan=\"2\" valign=\"top\">0</th>\n",
       "      <th>1</th>\n",
       "      <th>0</th>\n",
       "      <th>1</th>\n",
       "      <th>0</th>\n",
       "      <th>0</th>\n",
       "      <th>0</th>\n",
       "      <th>0</th>\n",
       "      <th>-50</th>\n",
       "      <th>50</th>\n",
       "      <th>0</th>\n",
       "      <th>3</th>\n",
       "      <th>2</th>\n",
       "      <th>0</th>\n",
       "      <th>6</th>\n",
       "      <th>0</th>\n",
       "      <th>0</th>\n",
       "      <th>0</th>\n",
       "      <th>0</th>\n",
       "      <th>3</th>\n",
       "      <th>1</th>\n",
       "      <th>9.6070213</th>\n",
       "      <th>.023048174</th>\n",
       "      <th>.022158911</th>\n",
       "      <th>.024743512</th>\n",
       "      <th>-.0025846008</th>\n",
       "      <th>.40816328</th>\n",
       "      <th>0</th>\n",
       "      <th>0</th>\n",
       "      <th>1</th>\n",
       "      <th>0</th>\n",
       "      <th>1</th>\n",
       "      <th>.93570644</th>\n",
       "      <th>.011948366</th>\n",
       "      <th>.27612817</th>\n",
       "      <th>2.48</th>\n",
       "      <th>51175</th>\n",
       "      <th>.72194058</th>\n",
       "      <th>.19266793</th>\n",
       "      <td>1</td>\n",
       "    </tr>\n",
       "    <tr>\n",
       "      <th>0</th>\n",
       "      <th>1</th>\n",
       "      <th>1</th>\n",
       "      <th>0</th>\n",
       "      <th>0</th>\n",
       "      <th>0</th>\n",
       "      <th>0</th>\n",
       "      <th>-25</th>\n",
       "      <th>50</th>\n",
       "      <th>1</th>\n",
       "      <th>15</th>\n",
       "      <th>8</th>\n",
       "      <th>1</th>\n",
       "      <th>1</th>\n",
       "      <th>0</th>\n",
       "      <th>0</th>\n",
       "      <th>0</th>\n",
       "      <th>0</th>\n",
       "      <th>1</th>\n",
       "      <th>2</th>\n",
       "      <th>3.2814682</th>\n",
       "      <th>.020668693</th>\n",
       "      <th>.024702653</th>\n",
       "      <th>.012681159</th>\n",
       "      <th>.012021494</th>\n",
       "      <th>.46464646</th>\n",
       "      <th>0</th>\n",
       "      <th>0</th>\n",
       "      <th>1</th>\n",
       "      <th>1</th>\n",
       "      <th>0</th>\n",
       "      <th>.88833094</th>\n",
       "      <th>.010760401</th>\n",
       "      <th>.27941176</th>\n",
       "      <th>2.6500001</th>\n",
       "      <th>79269</th>\n",
       "      <th>.92043138</th>\n",
       "      <th>.41214216</th>\n",
       "      <td>1</td>\n",
       "    </tr>\n",
       "    <tr>\n",
       "      <th>1</th>\n",
       "      <th>0</th>\n",
       "      <th>0</th>\n",
       "      <th>1</th>\n",
       "      <th>0</th>\n",
       "      <th>0</th>\n",
       "      <th>0</th>\n",
       "      <th>0</th>\n",
       "      <th>-15</th>\n",
       "      <th>25</th>\n",
       "      <th>1</th>\n",
       "      <th>42</th>\n",
       "      <th>95</th>\n",
       "      <th>1</th>\n",
       "      <th>24</th>\n",
       "      <th>1</th>\n",
       "      <th>1</th>\n",
       "      <th>0</th>\n",
       "      <th>0</th>\n",
       "      <th>1</th>\n",
       "      <th>1</th>\n",
       "      <th>2.3020148</th>\n",
       "      <th>.01559792</th>\n",
       "      <th>.016971279</th>\n",
       "      <th>.012886598</th>\n",
       "      <th>.0040846812</th>\n",
       "      <th>.52525252</th>\n",
       "      <th>0</th>\n",
       "      <th>1</th>\n",
       "      <th>0</th>\n",
       "      <th>0</th>\n",
       "      <th>1</th>\n",
       "      <th>.75901407</th>\n",
       "      <th>.12742095</th>\n",
       "      <th>.44238886</th>\n",
       "      <th>1.85</th>\n",
       "      <th>40908</th>\n",
       "      <th>.41607207</th>\n",
       "      <th>.43996516</th>\n",
       "      <td>1</td>\n",
       "    </tr>\n",
       "    <tr>\n",
       "      <th>...</th>\n",
       "      <th>...</th>\n",
       "      <th>...</th>\n",
       "      <th>...</th>\n",
       "      <th>...</th>\n",
       "      <th>...</th>\n",
       "      <th>...</th>\n",
       "      <th>...</th>\n",
       "      <th>...</th>\n",
       "      <th>...</th>\n",
       "      <th>...</th>\n",
       "      <th>...</th>\n",
       "      <th>...</th>\n",
       "      <th>...</th>\n",
       "      <th>...</th>\n",
       "      <th>...</th>\n",
       "      <th>...</th>\n",
       "      <th>...</th>\n",
       "      <th>...</th>\n",
       "      <th>...</th>\n",
       "      <th>...</th>\n",
       "      <th>...</th>\n",
       "      <th>...</th>\n",
       "      <th>...</th>\n",
       "      <th>...</th>\n",
       "      <th>...</th>\n",
       "      <th>...</th>\n",
       "      <th>...</th>\n",
       "      <th>...</th>\n",
       "      <th>...</th>\n",
       "      <th>...</th>\n",
       "      <th>...</th>\n",
       "      <th>...</th>\n",
       "      <th>...</th>\n",
       "      <th>...</th>\n",
       "      <th>...</th>\n",
       "      <th>...</th>\n",
       "      <th>...</th>\n",
       "      <th>...</th>\n",
       "      <th>...</th>\n",
       "      <th>...</th>\n",
       "      <th>...</th>\n",
       "      <th>...</th>\n",
       "      <td>...</td>\n",
       "    </tr>\n",
       "    <tr>\n",
       "      <th>0</th>\n",
       "      <th>0</th>\n",
       "      <th>0</th>\n",
       "      <th>0</th>\n",
       "      <th>0</th>\n",
       "      <th>0</th>\n",
       "      <th>0</th>\n",
       "      <th>0</th>\n",
       "      <th>0</th>\n",
       "      <th>0</th>\n",
       "      <th>0.0</th>\n",
       "      <th>0</th>\n",
       "      <th>-25.0</th>\n",
       "      <th>25.0</th>\n",
       "      <th>1</th>\n",
       "      <th>1</th>\n",
       "      <th>1.0</th>\n",
       "      <th>0</th>\n",
       "      <th>19.0</th>\n",
       "      <th>1</th>\n",
       "      <th>0.0</th>\n",
       "      <th>0.0</th>\n",
       "      <th>0</th>\n",
       "      <th>4.0</th>\n",
       "      <th>3.0</th>\n",
       "      <th>17.368841</th>\n",
       "      <th>0.01895027</th>\n",
       "      <th>0.018493151</th>\n",
       "      <th>0.019881409</th>\n",
       "      <th>-0.0013882573999999999</th>\n",
       "      <th>0.44444445</th>\n",
       "      <th>0.0</th>\n",
       "      <th>0.0</th>\n",
       "      <th>1.0</th>\n",
       "      <th>1.0</th>\n",
       "      <th>0.0</th>\n",
       "      <th>0.89999998</th>\n",
       "      <th>0.021311475</th>\n",
       "      <th>0.17868853</th>\n",
       "      <th>2.3599999</th>\n",
       "      <th>26667.0</th>\n",
       "      <th>0.77868855</th>\n",
       "      <th>0.10792951</th>\n",
       "      <td>0</td>\n",
       "    </tr>\n",
       "    <tr>\n",
       "      <th rowspan=\"2\" valign=\"top\">1</th>\n",
       "      <th rowspan=\"2\" valign=\"top\">0</th>\n",
       "      <th rowspan=\"2\" valign=\"top\">1</th>\n",
       "      <th>0</th>\n",
       "      <th>0</th>\n",
       "      <th>0</th>\n",
       "      <th>1</th>\n",
       "      <th>0</th>\n",
       "      <th>1</th>\n",
       "      <th>0</th>\n",
       "      <th>0.0</th>\n",
       "      <th>0</th>\n",
       "      <th>-15.0</th>\n",
       "      <th>35.0</th>\n",
       "      <th>1</th>\n",
       "      <th>12</th>\n",
       "      <th>4.0</th>\n",
       "      <th>0</th>\n",
       "      <th>3.0</th>\n",
       "      <th>0</th>\n",
       "      <th>0.0</th>\n",
       "      <th>0.0</th>\n",
       "      <th>0</th>\n",
       "      <th>4.0</th>\n",
       "      <th>3.0</th>\n",
       "      <th>17.368841</th>\n",
       "      <th>0.01895027</th>\n",
       "      <th>0.018493151</th>\n",
       "      <th>0.019881409</th>\n",
       "      <th>-0.0013882573999999999</th>\n",
       "      <th>0.44444445</th>\n",
       "      <th>0.0</th>\n",
       "      <th>0.0</th>\n",
       "      <th>1.0</th>\n",
       "      <th>1.0</th>\n",
       "      <th>0.0</th>\n",
       "      <th>0.91720599</th>\n",
       "      <th>0.0082570855</th>\n",
       "      <th>0.22561929</th>\n",
       "      <th>2.5699999</th>\n",
       "      <th>39530.0</th>\n",
       "      <th>0.73398793</th>\n",
       "      <th>0.18476775</th>\n",
       "      <td>0.634903</td>\n",
       "    </tr>\n",
       "    <tr>\n",
       "      <th>1</th>\n",
       "      <th>0</th>\n",
       "      <th>0</th>\n",
       "      <th>0</th>\n",
       "      <th>0</th>\n",
       "      <th>0</th>\n",
       "      <th>1</th>\n",
       "      <th>0.0</th>\n",
       "      <th>0</th>\n",
       "      <th>-55.0</th>\n",
       "      <th>55.0</th>\n",
       "      <th>0</th>\n",
       "      <th>2</th>\n",
       "      <th>1.0</th>\n",
       "      <th>0</th>\n",
       "      <th>6.0</th>\n",
       "      <th>0</th>\n",
       "      <th>0.0</th>\n",
       "      <th>0.0</th>\n",
       "      <th>0</th>\n",
       "      <th>4.0</th>\n",
       "      <th>3.0</th>\n",
       "      <th>17.368841</th>\n",
       "      <th>0.01895027</th>\n",
       "      <th>0.018493151</th>\n",
       "      <th>0.019881409</th>\n",
       "      <th>-0.0013882573999999999</th>\n",
       "      <th>0.44444445</th>\n",
       "      <th>0.0</th>\n",
       "      <th>0.0</th>\n",
       "      <th>1.0</th>\n",
       "      <th>0.0</th>\n",
       "      <th>1.0</th>\n",
       "      <th>0.53002316</th>\n",
       "      <th>0.07411248200000001</th>\n",
       "      <th>0.34069782</th>\n",
       "      <th>3.7</th>\n",
       "      <th>48744.0</th>\n",
       "      <th>0.71784335</th>\n",
       "      <th>0.12794067</th>\n",
       "      <td>0.994181</td>\n",
       "    </tr>\n",
       "    <tr>\n",
       "      <th>&lt;/pre&gt;&lt;/body&gt;&lt;/html&gt;</th>\n",
       "      <th>NaN</th>\n",
       "      <th>NaN</th>\n",
       "      <th>NaN</th>\n",
       "      <th>NaN</th>\n",
       "      <th>NaN</th>\n",
       "      <th>NaN</th>\n",
       "      <th>NaN</th>\n",
       "      <th>NaN</th>\n",
       "      <th>NaN</th>\n",
       "      <th>NaN</th>\n",
       "      <th>NaN</th>\n",
       "      <th>NaN</th>\n",
       "      <th>NaN</th>\n",
       "      <th>NaN</th>\n",
       "      <th>NaN</th>\n",
       "      <th>NaN</th>\n",
       "      <th>NaN</th>\n",
       "      <th>NaN</th>\n",
       "      <th>NaN</th>\n",
       "      <th>NaN</th>\n",
       "      <th>NaN</th>\n",
       "      <th>NaN</th>\n",
       "      <th>NaN</th>\n",
       "      <th>NaN</th>\n",
       "      <th>NaN</th>\n",
       "      <th>NaN</th>\n",
       "      <th>NaN</th>\n",
       "      <th>NaN</th>\n",
       "      <th>NaN</th>\n",
       "      <th>NaN</th>\n",
       "      <th>NaN</th>\n",
       "      <th>NaN</th>\n",
       "      <th>NaN</th>\n",
       "      <th>NaN</th>\n",
       "      <th>NaN</th>\n",
       "      <th>NaN</th>\n",
       "      <th>NaN</th>\n",
       "      <th>NaN</th>\n",
       "      <th>NaN</th>\n",
       "      <th>NaN</th>\n",
       "      <th>NaN</th>\n",
       "      <th>NaN</th>\n",
       "      <td>NaN</td>\n",
       "    </tr>\n",
       "    <tr>\n",
       "      <th>NaN</th>\n",
       "      <th>NaN</th>\n",
       "      <th>NaN</th>\n",
       "      <th>NaN</th>\n",
       "      <th>NaN</th>\n",
       "      <th>NaN</th>\n",
       "      <th>NaN</th>\n",
       "      <th>NaN</th>\n",
       "      <th>NaN</th>\n",
       "      <th>NaN</th>\n",
       "      <th>NaN</th>\n",
       "      <th>NaN</th>\n",
       "      <th>NaN</th>\n",
       "      <th>NaN</th>\n",
       "      <th>NaN</th>\n",
       "      <th>NaN</th>\n",
       "      <th>NaN</th>\n",
       "      <th>NaN</th>\n",
       "      <th>NaN</th>\n",
       "      <th>NaN</th>\n",
       "      <th>NaN</th>\n",
       "      <th>NaN</th>\n",
       "      <th>NaN</th>\n",
       "      <th>NaN</th>\n",
       "      <th>NaN</th>\n",
       "      <th>NaN</th>\n",
       "      <th>NaN</th>\n",
       "      <th>NaN</th>\n",
       "      <th>NaN</th>\n",
       "      <th>NaN</th>\n",
       "      <th>NaN</th>\n",
       "      <th>NaN</th>\n",
       "      <th>NaN</th>\n",
       "      <th>NaN</th>\n",
       "      <th>NaN</th>\n",
       "      <th>NaN</th>\n",
       "      <th>NaN</th>\n",
       "      <th>NaN</th>\n",
       "      <th>NaN</th>\n",
       "      <th>NaN</th>\n",
       "      <th>NaN</th>\n",
       "      <th>NaN</th>\n",
       "      <th>NaN</th>\n",
       "      <td>NaN</td>\n",
       "    </tr>\n",
       "  </tbody>\n",
       "</table>\n",
       "<p>50085 rows × 1 columns</p>\n",
       "</div>"
      ],
      "text/plain": [
       "('\\x0b\\x0c_\\x10\\x13WebResourceMIMEType_\\x10\\x1bWebResourceTextEncodingName^WebResourceURL_\\x10\\x14WebResourceFrameName_\\x10\\x0fWebResourceDataZtext/plainUUTF-8_\\x10`https://raw.githubusercontent.com/gsbDBI/ExperimentData/master/Charitable/RawData/charitable.csvPO\\x12', 'treat_ratio2', 'treat_ratio3', 'treat_size25', 'treat_size50', 'treat_size100', 'treat_sizeno', 'treat_askd1', 'treat_askd2', 'treat_askd3', 'out_amountgive', 'out_gavedum', 'out_changeamtgive', 'hpa', 'ltmedmra', 'freq', 'years', 'year5', 'mrm2', 'dormant', 'female', 'couple', 'state50one', 'nonlit', 'cases', 'statecnt', 'stateresponse', 'stateresponset', 'stateresponsec', 'stateresponsetminc', 'perbush', 'close25', 'red0', 'blue0', 'redcty', 'bluecty', 'pwhite', 'pblack', 'page18_39', 'ave_hh_sz', 'median_hhincome', 'powner', 'psch_atlstba') pop_propurban\n",
       "0                    0   0   0   0   0   0   0   0   0   0   0   -45   45   0   2   4   0   31   1   0   0   0   5   4   4.5002995 .019946808 .019502353  .020806242  -.0013038889           .49000001  1   0   1   0   1   .44649345  .52776921           .31759128  2.0999999 28517   .49980718  .3245278                                                                                                                                                                                                                                                                                                                                                                                                                                                                                                                                                      1\n",
       "                                                                 -25   25   1   2   3   0   5    0   0   0   0   0   2   2.9822462 .026086956 .027833002  .022494888  .0053381138            .46464646  0   0   1   1   0   NaN        NaN                 NaN        NaN       NaN     NaN        NaN                                                                                                                                                                                                                                                                                                                                                                                                                                                                                                                                                         NaN\n",
       "1                    0   0   0   0   1   0   1   0   0   0   0   -50   50   0   3   2   0   6    0   0   0   0   3   1   9.6070213 .023048174 .022158911  .024743512  -.0025846008           .40816328  0   0   1   0   1   .93570644  .011948366          .27612817  2.48      51175   .72194058  .19266793                                                                                                                                                                                                                                                                                                                                                                                                                                                                                                                                                     1\n",
       "                                     0   1   1   0   0   0   0   -25   50   1   15  8   1   1    0   0   0   0   1   2   3.2814682 .020668693 .024702653  .012681159  .012021494             .46464646  0   0   1   1   0   .88833094  .010760401          .27941176  2.6500001 79269   .92043138  .41214216                                                                                                                                                                                                                                                                                                                                                                                                                                                                                                                                                     1\n",
       "                                 1   0   0   1   0   0   0   0   -15   25   1   42  95  1   24   1   1   0   0   1   1   2.3020148 .01559792  .016971279  .012886598  .0040846812            .52525252  0   1   0   0   1   .75901407  .12742095           .44238886  1.85      40908   .41607207  .43996516                                                                                                                                                                                                                                                                                                                                                                                                                                                                                                                                                     1\n",
       "...                                                                                                                                                                                                                                                                                                                                                                                                                                                                                                                                                                                                                                                                                                                                                                                                                                                            ...\n",
       "0                    0   0   0   0   0   0   0   0   0   0.0 0   -25.0 25.0 1   1   1.0 0   19.0 1   0.0 0.0 0   4.0 3.0 17.368841 0.01895027 0.018493151 0.019881409 -0.0013882573999999999 0.44444445 0.0 0.0 1.0 1.0 0.0 0.89999998 0.021311475         0.17868853 2.3599999 26667.0 0.77868855 0.10792951                                                                                                                                                                                                                                                                                                                                                                                                                                                                                                                                                    0\n",
       "1                    0   1   0   0   0   1   0   1   0   0.0 0   -15.0 35.0 1   12  4.0 0   3.0  0   0.0 0.0 0   4.0 3.0 17.368841 0.01895027 0.018493151 0.019881409 -0.0013882573999999999 0.44444445 0.0 0.0 1.0 1.0 0.0 0.91720599 0.0082570855        0.22561929 2.5699999 39530.0 0.73398793 0.18476775                                                                                                                                                                                                                                                                                                                                                                                                                                                                                                                                             0.634903\n",
       "                             1   0   0   0   0   0   1   0.0 0   -55.0 55.0 0   2   1.0 0   6.0  0   0.0 0.0 0   4.0 3.0 17.368841 0.01895027 0.018493151 0.019881409 -0.0013882573999999999 0.44444445 0.0 0.0 1.0 0.0 1.0 0.53002316 0.07411248200000001 0.34069782 3.7       48744.0 0.71784335 0.12794067                                                                                                                                                                                                                                                                                                                                                                                                                                                                                                                                             0.994181\n",
       "</pre></body></html> NaN NaN NaN NaN NaN NaN NaN NaN NaN NaN NaN NaN   NaN  NaN NaN NaN NaN NaN  NaN NaN NaN NaN NaN NaN NaN       NaN        NaN         NaN         NaN                    NaN        NaN NaN NaN NaN NaN NaN        NaN                 NaN        NaN       NaN     NaN        NaN                                                                                                                                                                                                                                                                                                                                                                                                                                                                                                                                                         NaN\n",
       "NaN                  NaN NaN NaN NaN NaN NaN NaN NaN NaN NaN NaN NaN   NaN  NaN NaN NaN NaN NaN  NaN NaN NaN NaN NaN NaN NaN       NaN        NaN         NaN         NaN                    NaN        NaN NaN NaN NaN NaN NaN        NaN                 NaN        NaN       NaN     NaN        NaN                                                                                                                                                                                                                                                                                                                                                                                                                                                                                                                                                         NaN\n",
       "\n",
       "[50085 rows x 1 columns]"
      ]
     },
     "execution_count": 31,
     "metadata": {},
     "output_type": "execute_result"
    }
   ],
   "source": [
    "c"
   ]
  },
  {
   "cell_type": "code",
   "execution_count": 21,
   "metadata": {},
   "outputs": [],
   "source": [
    "drop_col = [c.columns[0]]\n",
    "c.drop(columns=drop_col, inplace=True)"
   ]
  },
  {
   "cell_type": "code",
   "execution_count": 27,
   "metadata": {},
   "outputs": [
    {
     "data": {
      "text/html": [
       "<div>\n",
       "<style scoped>\n",
       "    .dataframe tbody tr th:only-of-type {\n",
       "        vertical-align: middle;\n",
       "    }\n",
       "\n",
       "    .dataframe tbody tr th {\n",
       "        vertical-align: top;\n",
       "    }\n",
       "\n",
       "    .dataframe thead th {\n",
       "        text-align: right;\n",
       "    }\n",
       "</style>\n",
       "<table border=\"1\" class=\"dataframe\">\n",
       "  <thead>\n",
       "    <tr style=\"text-align: right;\">\n",
       "      <th></th>\n",
       "      <th></th>\n",
       "      <th></th>\n",
       "      <th></th>\n",
       "      <th></th>\n",
       "      <th></th>\n",
       "      <th></th>\n",
       "      <th></th>\n",
       "      <th></th>\n",
       "      <th></th>\n",
       "      <th></th>\n",
       "      <th></th>\n",
       "      <th></th>\n",
       "      <th></th>\n",
       "      <th></th>\n",
       "      <th></th>\n",
       "      <th></th>\n",
       "      <th></th>\n",
       "      <th></th>\n",
       "      <th></th>\n",
       "      <th></th>\n",
       "      <th></th>\n",
       "      <th></th>\n",
       "      <th></th>\n",
       "      <th></th>\n",
       "      <th></th>\n",
       "      <th></th>\n",
       "      <th></th>\n",
       "      <th></th>\n",
       "      <th></th>\n",
       "      <th></th>\n",
       "      <th></th>\n",
       "      <th></th>\n",
       "      <th></th>\n",
       "      <th></th>\n",
       "      <th></th>\n",
       "      <th></th>\n",
       "      <th></th>\n",
       "      <th></th>\n",
       "      <th></th>\n",
       "      <th></th>\n",
       "      <th></th>\n",
       "      <th></th>\n",
       "      <th>bplist00Ñ\u0001\u0002_\u0010\u000fWebMainResourceÕ\u0003\u0004\u0005\u0006\u0007\b\\t</th>\n",
       "    </tr>\n",
       "  </thead>\n",
       "  <tbody>\n",
       "    <tr>\n",
       "      <th>_\u0010\u0013WebResourceMIMEType_\u0010\u001bWebResourceTextEncodingName^WebResourceURL_\u0010\u0014WebResourceFrameName_\u0010\u000fWebResourceDataZtext/plainUUTF-8_\u0010`https://raw.githubusercontent.com/gsbDBI/ExperimentData/master/Charitable/RawData/charitable.csvPO\u0012</th>\n",
       "      <th>treat_ratio2</th>\n",
       "      <th>treat_ratio3</th>\n",
       "      <th>treat_size25</th>\n",
       "      <th>treat_size50</th>\n",
       "      <th>treat_size100</th>\n",
       "      <th>treat_sizeno</th>\n",
       "      <th>treat_askd1</th>\n",
       "      <th>treat_askd2</th>\n",
       "      <th>treat_askd3</th>\n",
       "      <th>out_amountgive</th>\n",
       "      <th>out_gavedum</th>\n",
       "      <th>out_changeamtgive</th>\n",
       "      <th>hpa</th>\n",
       "      <th>ltmedmra</th>\n",
       "      <th>freq</th>\n",
       "      <th>years</th>\n",
       "      <th>year5</th>\n",
       "      <th>mrm2</th>\n",
       "      <th>dormant</th>\n",
       "      <th>female</th>\n",
       "      <th>couple</th>\n",
       "      <th>state50one</th>\n",
       "      <th>nonlit</th>\n",
       "      <th>cases</th>\n",
       "      <th>statecnt</th>\n",
       "      <th>stateresponse</th>\n",
       "      <th>stateresponset</th>\n",
       "      <th>stateresponsec</th>\n",
       "      <th>stateresponsetminc</th>\n",
       "      <th>perbush</th>\n",
       "      <th>close25</th>\n",
       "      <th>red0</th>\n",
       "      <th>blue0</th>\n",
       "      <th>redcty</th>\n",
       "      <th>bluecty</th>\n",
       "      <th>pwhite</th>\n",
       "      <th>pblack</th>\n",
       "      <th>page18_39</th>\n",
       "      <th>ave_hh_sz</th>\n",
       "      <th>median_hhincome</th>\n",
       "      <th>powner</th>\n",
       "      <th>psch_atlstba</th>\n",
       "      <td>pop_propurban</td>\n",
       "    </tr>\n",
       "    <tr>\n",
       "      <th rowspan=\"2\" valign=\"top\">0</th>\n",
       "      <th rowspan=\"2\" valign=\"top\">0</th>\n",
       "      <th rowspan=\"2\" valign=\"top\">0</th>\n",
       "      <th rowspan=\"2\" valign=\"top\">0</th>\n",
       "      <th rowspan=\"2\" valign=\"top\">0</th>\n",
       "      <th rowspan=\"2\" valign=\"top\">0</th>\n",
       "      <th rowspan=\"2\" valign=\"top\">0</th>\n",
       "      <th rowspan=\"2\" valign=\"top\">0</th>\n",
       "      <th rowspan=\"2\" valign=\"top\">0</th>\n",
       "      <th rowspan=\"2\" valign=\"top\">0</th>\n",
       "      <th rowspan=\"2\" valign=\"top\">0</th>\n",
       "      <th rowspan=\"2\" valign=\"top\">0</th>\n",
       "      <th>-45</th>\n",
       "      <th>45</th>\n",
       "      <th>0</th>\n",
       "      <th>2</th>\n",
       "      <th>4</th>\n",
       "      <th>0</th>\n",
       "      <th>31</th>\n",
       "      <th>1</th>\n",
       "      <th>0</th>\n",
       "      <th>0</th>\n",
       "      <th>0</th>\n",
       "      <th>5</th>\n",
       "      <th>4</th>\n",
       "      <th>4.5002995</th>\n",
       "      <th>.019946808</th>\n",
       "      <th>.019502353</th>\n",
       "      <th>.020806242</th>\n",
       "      <th>-.0013038889</th>\n",
       "      <th>.49000001</th>\n",
       "      <th>1</th>\n",
       "      <th>0</th>\n",
       "      <th>1</th>\n",
       "      <th>0</th>\n",
       "      <th>1</th>\n",
       "      <th>.44649345</th>\n",
       "      <th>.52776921</th>\n",
       "      <th>.31759128</th>\n",
       "      <th>2.0999999</th>\n",
       "      <th>28517</th>\n",
       "      <th>.49980718</th>\n",
       "      <th>.3245278</th>\n",
       "      <td>1</td>\n",
       "    </tr>\n",
       "    <tr>\n",
       "      <th>-25</th>\n",
       "      <th>25</th>\n",
       "      <th>1</th>\n",
       "      <th>2</th>\n",
       "      <th>3</th>\n",
       "      <th>0</th>\n",
       "      <th>5</th>\n",
       "      <th>0</th>\n",
       "      <th>0</th>\n",
       "      <th>0</th>\n",
       "      <th>0</th>\n",
       "      <th>0</th>\n",
       "      <th>2</th>\n",
       "      <th>2.9822462</th>\n",
       "      <th>.026086956</th>\n",
       "      <th>.027833002</th>\n",
       "      <th>.022494888</th>\n",
       "      <th>.0053381138</th>\n",
       "      <th>.46464646</th>\n",
       "      <th>0</th>\n",
       "      <th>0</th>\n",
       "      <th>1</th>\n",
       "      <th>1</th>\n",
       "      <th>0</th>\n",
       "      <th>NaN</th>\n",
       "      <th>NaN</th>\n",
       "      <th>NaN</th>\n",
       "      <th>NaN</th>\n",
       "      <th>NaN</th>\n",
       "      <th>NaN</th>\n",
       "      <th>NaN</th>\n",
       "      <td>NaN</td>\n",
       "    </tr>\n",
       "    <tr>\n",
       "      <th rowspan=\"2\" valign=\"top\">1</th>\n",
       "      <th rowspan=\"2\" valign=\"top\">0</th>\n",
       "      <th rowspan=\"2\" valign=\"top\">0</th>\n",
       "      <th rowspan=\"2\" valign=\"top\">0</th>\n",
       "      <th rowspan=\"2\" valign=\"top\">0</th>\n",
       "      <th>1</th>\n",
       "      <th>0</th>\n",
       "      <th>1</th>\n",
       "      <th>0</th>\n",
       "      <th>0</th>\n",
       "      <th>0</th>\n",
       "      <th>0</th>\n",
       "      <th>-50</th>\n",
       "      <th>50</th>\n",
       "      <th>0</th>\n",
       "      <th>3</th>\n",
       "      <th>2</th>\n",
       "      <th>0</th>\n",
       "      <th>6</th>\n",
       "      <th>0</th>\n",
       "      <th>0</th>\n",
       "      <th>0</th>\n",
       "      <th>0</th>\n",
       "      <th>3</th>\n",
       "      <th>1</th>\n",
       "      <th>9.6070213</th>\n",
       "      <th>.023048174</th>\n",
       "      <th>.022158911</th>\n",
       "      <th>.024743512</th>\n",
       "      <th>-.0025846008</th>\n",
       "      <th>.40816328</th>\n",
       "      <th>0</th>\n",
       "      <th>0</th>\n",
       "      <th>1</th>\n",
       "      <th>0</th>\n",
       "      <th>1</th>\n",
       "      <th>.93570644</th>\n",
       "      <th>.011948366</th>\n",
       "      <th>.27612817</th>\n",
       "      <th>2.48</th>\n",
       "      <th>51175</th>\n",
       "      <th>.72194058</th>\n",
       "      <th>.19266793</th>\n",
       "      <td>1</td>\n",
       "    </tr>\n",
       "    <tr>\n",
       "      <th>0</th>\n",
       "      <th>1</th>\n",
       "      <th>1</th>\n",
       "      <th>0</th>\n",
       "      <th>0</th>\n",
       "      <th>0</th>\n",
       "      <th>0</th>\n",
       "      <th>-25</th>\n",
       "      <th>50</th>\n",
       "      <th>1</th>\n",
       "      <th>15</th>\n",
       "      <th>8</th>\n",
       "      <th>1</th>\n",
       "      <th>1</th>\n",
       "      <th>0</th>\n",
       "      <th>0</th>\n",
       "      <th>0</th>\n",
       "      <th>0</th>\n",
       "      <th>1</th>\n",
       "      <th>2</th>\n",
       "      <th>3.2814682</th>\n",
       "      <th>.020668693</th>\n",
       "      <th>.024702653</th>\n",
       "      <th>.012681159</th>\n",
       "      <th>.012021494</th>\n",
       "      <th>.46464646</th>\n",
       "      <th>0</th>\n",
       "      <th>0</th>\n",
       "      <th>1</th>\n",
       "      <th>1</th>\n",
       "      <th>0</th>\n",
       "      <th>.88833094</th>\n",
       "      <th>.010760401</th>\n",
       "      <th>.27941176</th>\n",
       "      <th>2.6500001</th>\n",
       "      <th>79269</th>\n",
       "      <th>.92043138</th>\n",
       "      <th>.41214216</th>\n",
       "      <td>1</td>\n",
       "    </tr>\n",
       "    <tr>\n",
       "      <th>...</th>\n",
       "      <th>...</th>\n",
       "      <th>...</th>\n",
       "      <th>...</th>\n",
       "      <th>...</th>\n",
       "      <th>...</th>\n",
       "      <th>...</th>\n",
       "      <th>...</th>\n",
       "      <th>...</th>\n",
       "      <th>...</th>\n",
       "      <th>...</th>\n",
       "      <th>...</th>\n",
       "      <th>...</th>\n",
       "      <th>...</th>\n",
       "      <th>...</th>\n",
       "      <th>...</th>\n",
       "      <th>...</th>\n",
       "      <th>...</th>\n",
       "      <th>...</th>\n",
       "      <th>...</th>\n",
       "      <th>...</th>\n",
       "      <th>...</th>\n",
       "      <th>...</th>\n",
       "      <th>...</th>\n",
       "      <th>...</th>\n",
       "      <th>...</th>\n",
       "      <th>...</th>\n",
       "      <th>...</th>\n",
       "      <th>...</th>\n",
       "      <th>...</th>\n",
       "      <th>...</th>\n",
       "      <th>...</th>\n",
       "      <th>...</th>\n",
       "      <th>...</th>\n",
       "      <th>...</th>\n",
       "      <th>...</th>\n",
       "      <th>...</th>\n",
       "      <th>...</th>\n",
       "      <th>...</th>\n",
       "      <th>...</th>\n",
       "      <th>...</th>\n",
       "      <th>...</th>\n",
       "      <th>...</th>\n",
       "      <td>...</td>\n",
       "    </tr>\n",
       "    <tr>\n",
       "      <th>0</th>\n",
       "      <th>0</th>\n",
       "      <th>0</th>\n",
       "      <th>0</th>\n",
       "      <th>0</th>\n",
       "      <th>0</th>\n",
       "      <th>0</th>\n",
       "      <th>0</th>\n",
       "      <th>0</th>\n",
       "      <th>0</th>\n",
       "      <th>0.0</th>\n",
       "      <th>0</th>\n",
       "      <th>-25.0</th>\n",
       "      <th>25.0</th>\n",
       "      <th>1</th>\n",
       "      <th>1</th>\n",
       "      <th>1.0</th>\n",
       "      <th>0</th>\n",
       "      <th>19.0</th>\n",
       "      <th>1</th>\n",
       "      <th>0.0</th>\n",
       "      <th>0.0</th>\n",
       "      <th>0</th>\n",
       "      <th>4.0</th>\n",
       "      <th>3.0</th>\n",
       "      <th>17.368841</th>\n",
       "      <th>0.01895027</th>\n",
       "      <th>0.018493151</th>\n",
       "      <th>0.019881409</th>\n",
       "      <th>-0.0013882573999999999</th>\n",
       "      <th>0.44444445</th>\n",
       "      <th>0.0</th>\n",
       "      <th>0.0</th>\n",
       "      <th>1.0</th>\n",
       "      <th>1.0</th>\n",
       "      <th>0.0</th>\n",
       "      <th>0.89999998</th>\n",
       "      <th>0.021311475</th>\n",
       "      <th>0.17868853</th>\n",
       "      <th>2.3599999</th>\n",
       "      <th>26667.0</th>\n",
       "      <th>0.77868855</th>\n",
       "      <th>0.10792951</th>\n",
       "      <td>0</td>\n",
       "    </tr>\n",
       "    <tr>\n",
       "      <th rowspan=\"2\" valign=\"top\">1</th>\n",
       "      <th rowspan=\"2\" valign=\"top\">0</th>\n",
       "      <th rowspan=\"2\" valign=\"top\">1</th>\n",
       "      <th>0</th>\n",
       "      <th>0</th>\n",
       "      <th>0</th>\n",
       "      <th>1</th>\n",
       "      <th>0</th>\n",
       "      <th>1</th>\n",
       "      <th>0</th>\n",
       "      <th>0.0</th>\n",
       "      <th>0</th>\n",
       "      <th>-15.0</th>\n",
       "      <th>35.0</th>\n",
       "      <th>1</th>\n",
       "      <th>12</th>\n",
       "      <th>4.0</th>\n",
       "      <th>0</th>\n",
       "      <th>3.0</th>\n",
       "      <th>0</th>\n",
       "      <th>0.0</th>\n",
       "      <th>0.0</th>\n",
       "      <th>0</th>\n",
       "      <th>4.0</th>\n",
       "      <th>3.0</th>\n",
       "      <th>17.368841</th>\n",
       "      <th>0.01895027</th>\n",
       "      <th>0.018493151</th>\n",
       "      <th>0.019881409</th>\n",
       "      <th>-0.0013882573999999999</th>\n",
       "      <th>0.44444445</th>\n",
       "      <th>0.0</th>\n",
       "      <th>0.0</th>\n",
       "      <th>1.0</th>\n",
       "      <th>1.0</th>\n",
       "      <th>0.0</th>\n",
       "      <th>0.91720599</th>\n",
       "      <th>0.0082570855</th>\n",
       "      <th>0.22561929</th>\n",
       "      <th>2.5699999</th>\n",
       "      <th>39530.0</th>\n",
       "      <th>0.73398793</th>\n",
       "      <th>0.18476775</th>\n",
       "      <td>0.634903</td>\n",
       "    </tr>\n",
       "    <tr>\n",
       "      <th>1</th>\n",
       "      <th>0</th>\n",
       "      <th>0</th>\n",
       "      <th>0</th>\n",
       "      <th>0</th>\n",
       "      <th>0</th>\n",
       "      <th>1</th>\n",
       "      <th>0.0</th>\n",
       "      <th>0</th>\n",
       "      <th>-55.0</th>\n",
       "      <th>55.0</th>\n",
       "      <th>0</th>\n",
       "      <th>2</th>\n",
       "      <th>1.0</th>\n",
       "      <th>0</th>\n",
       "      <th>6.0</th>\n",
       "      <th>0</th>\n",
       "      <th>0.0</th>\n",
       "      <th>0.0</th>\n",
       "      <th>0</th>\n",
       "      <th>4.0</th>\n",
       "      <th>3.0</th>\n",
       "      <th>17.368841</th>\n",
       "      <th>0.01895027</th>\n",
       "      <th>0.018493151</th>\n",
       "      <th>0.019881409</th>\n",
       "      <th>-0.0013882573999999999</th>\n",
       "      <th>0.44444445</th>\n",
       "      <th>0.0</th>\n",
       "      <th>0.0</th>\n",
       "      <th>1.0</th>\n",
       "      <th>0.0</th>\n",
       "      <th>1.0</th>\n",
       "      <th>0.53002316</th>\n",
       "      <th>0.07411248200000001</th>\n",
       "      <th>0.34069782</th>\n",
       "      <th>3.7</th>\n",
       "      <th>48744.0</th>\n",
       "      <th>0.71784335</th>\n",
       "      <th>0.12794067</th>\n",
       "      <td>0.994181</td>\n",
       "    </tr>\n",
       "    <tr>\n",
       "      <th>&lt;/pre&gt;&lt;/body&gt;&lt;/html&gt;</th>\n",
       "      <th>NaN</th>\n",
       "      <th>NaN</th>\n",
       "      <th>NaN</th>\n",
       "      <th>NaN</th>\n",
       "      <th>NaN</th>\n",
       "      <th>NaN</th>\n",
       "      <th>NaN</th>\n",
       "      <th>NaN</th>\n",
       "      <th>NaN</th>\n",
       "      <th>NaN</th>\n",
       "      <th>NaN</th>\n",
       "      <th>NaN</th>\n",
       "      <th>NaN</th>\n",
       "      <th>NaN</th>\n",
       "      <th>NaN</th>\n",
       "      <th>NaN</th>\n",
       "      <th>NaN</th>\n",
       "      <th>NaN</th>\n",
       "      <th>NaN</th>\n",
       "      <th>NaN</th>\n",
       "      <th>NaN</th>\n",
       "      <th>NaN</th>\n",
       "      <th>NaN</th>\n",
       "      <th>NaN</th>\n",
       "      <th>NaN</th>\n",
       "      <th>NaN</th>\n",
       "      <th>NaN</th>\n",
       "      <th>NaN</th>\n",
       "      <th>NaN</th>\n",
       "      <th>NaN</th>\n",
       "      <th>NaN</th>\n",
       "      <th>NaN</th>\n",
       "      <th>NaN</th>\n",
       "      <th>NaN</th>\n",
       "      <th>NaN</th>\n",
       "      <th>NaN</th>\n",
       "      <th>NaN</th>\n",
       "      <th>NaN</th>\n",
       "      <th>NaN</th>\n",
       "      <th>NaN</th>\n",
       "      <th>NaN</th>\n",
       "      <th>NaN</th>\n",
       "      <td>NaN</td>\n",
       "    </tr>\n",
       "    <tr>\n",
       "      <th>NaN</th>\n",
       "      <th>NaN</th>\n",
       "      <th>NaN</th>\n",
       "      <th>NaN</th>\n",
       "      <th>NaN</th>\n",
       "      <th>NaN</th>\n",
       "      <th>NaN</th>\n",
       "      <th>NaN</th>\n",
       "      <th>NaN</th>\n",
       "      <th>NaN</th>\n",
       "      <th>NaN</th>\n",
       "      <th>NaN</th>\n",
       "      <th>NaN</th>\n",
       "      <th>NaN</th>\n",
       "      <th>NaN</th>\n",
       "      <th>NaN</th>\n",
       "      <th>NaN</th>\n",
       "      <th>NaN</th>\n",
       "      <th>NaN</th>\n",
       "      <th>NaN</th>\n",
       "      <th>NaN</th>\n",
       "      <th>NaN</th>\n",
       "      <th>NaN</th>\n",
       "      <th>NaN</th>\n",
       "      <th>NaN</th>\n",
       "      <th>NaN</th>\n",
       "      <th>NaN</th>\n",
       "      <th>NaN</th>\n",
       "      <th>NaN</th>\n",
       "      <th>NaN</th>\n",
       "      <th>NaN</th>\n",
       "      <th>NaN</th>\n",
       "      <th>NaN</th>\n",
       "      <th>NaN</th>\n",
       "      <th>NaN</th>\n",
       "      <th>NaN</th>\n",
       "      <th>NaN</th>\n",
       "      <th>NaN</th>\n",
       "      <th>NaN</th>\n",
       "      <th>NaN</th>\n",
       "      <th>NaN</th>\n",
       "      <th>NaN</th>\n",
       "      <th>NaN</th>\n",
       "      <td>NaN</td>\n",
       "    </tr>\n",
       "  </tbody>\n",
       "</table>\n",
       "<p>50086 rows × 1 columns</p>\n",
       "</div>"
      ],
      "text/plain": [
       "                                                                                                                                                                                                                                                                                                                                                                                                                                                                                                                           bplist00Ñ\u0001\u0002_\u0010\u000fWebMainResourceÕ\u0003\u0004\u0005\u0006\u0007\b\\t\n",
       "\n",
       "\n",
       "_\u0010\u0013WebResourceMIMEType_\u0010\u001bWebResourceTextEncod... treat_ratio2 treat_ratio3 treat_size25 treat_size50 treat_size100 treat_sizeno treat_askd1 treat_askd2 treat_askd3 out_amountgive out_gavedum out_changeamtgive hpa  ltmedmra freq years year5 mrm2 dormant female couple state50one nonlit cases statecnt  stateresponse stateresponset stateresponsec stateresponsetminc     perbush    close25 red0 blue0 redcty bluecty pwhite     pblack              page18_39  ave_hh_sz median_hhincome powner     psch_atlstba                          pop_propurban\n",
       "0                                                  0            0            0            0            0             0            0           0           0           0              0           -45               45   0        2    4     0     31   1       0      0      0          5      4     4.5002995 .019946808    .019502353     .020806242     -.0013038889           .49000001  1       0    1     0      1       .44649345  .52776921           .31759128  2.0999999 28517           .49980718  .3245278                                          1\n",
       "                                                                                                                                                                                                 -25               25   1        2    3     0     5    0       0      0      0          0      2     2.9822462 .026086956    .027833002     .022494888     .0053381138            .46464646  0       0    1     1      0       NaN        NaN                 NaN        NaN       NaN             NaN        NaN                                             NaN\n",
       "1                                                  0            0            0            0            1             0            1           0           0           0              0           -50               50   0        3    2     0     6    0       0      0      0          3      1     9.6070213 .023048174    .022158911     .024743512     -.0025846008           .40816328  0       0    1     0      1       .93570644  .011948366          .27612817  2.48      51175           .72194058  .19266793                                         1\n",
       "                                                                                                       0             1            1           0           0           0              0           -25               50   1        15   8     1     1    0       0      0      0          1      2     3.2814682 .020668693    .024702653     .012681159     .012021494             .46464646  0       0    1     1      0       .88833094  .010760401          .27941176  2.6500001 79269           .92043138  .41214216                                         1\n",
       "...                                                                                                                                                                                                                                                                                                                                                                                                                                                                                                                                                           ...\n",
       "0                                                  0            0            0            0            0             0            0           0           0           0.0            0           -25.0             25.0 1        1    1.0   0     19.0 1       0.0    0.0    0          4.0    3.0   17.368841 0.01895027    0.018493151    0.019881409    -0.0013882573999999999 0.44444445 0.0     0.0  1.0   1.0    0.0     0.89999998 0.021311475         0.17868853 2.3599999 26667.0         0.77868855 0.10792951                                        0\n",
       "1                                                  0            1            0            0            0             1            0           1           0           0.0            0           -15.0             35.0 1        12   4.0   0     3.0  0       0.0    0.0    0          4.0    3.0   17.368841 0.01895027    0.018493151    0.019881409    -0.0013882573999999999 0.44444445 0.0     0.0  1.0   1.0    0.0     0.91720599 0.0082570855        0.22561929 2.5699999 39530.0         0.73398793 0.18476775                                 0.634903\n",
       "                                                                             1            0            0             0            0           0           1           0.0            0           -55.0             55.0 0        2    1.0   0     6.0  0       0.0    0.0    0          4.0    3.0   17.368841 0.01895027    0.018493151    0.019881409    -0.0013882573999999999 0.44444445 0.0     0.0  1.0   0.0    1.0     0.53002316 0.07411248200000001 0.34069782 3.7       48744.0         0.71784335 0.12794067                                 0.994181\n",
       "</pre></body></html>                               NaN          NaN          NaN          NaN          NaN           NaN          NaN         NaN         NaN         NaN            NaN         NaN               NaN  NaN      NaN  NaN   NaN   NaN  NaN     NaN    NaN    NaN        NaN    NaN   NaN       NaN           NaN            NaN            NaN                    NaN        NaN     NaN  NaN   NaN    NaN     NaN        NaN                 NaN        NaN       NaN             NaN        NaN                                             NaN\n",
       "NaN                                                NaN          NaN          NaN          NaN          NaN           NaN          NaN         NaN         NaN         NaN            NaN         NaN               NaN  NaN      NaN  NaN   NaN   NaN  NaN     NaN    NaN    NaN        NaN    NaN   NaN       NaN           NaN            NaN            NaN                    NaN        NaN     NaN  NaN   NaN    NaN     NaN        NaN                 NaN        NaN       NaN             NaN        NaN                                             NaN\n",
       "\n",
       "[50086 rows x 1 columns]"
      ]
     },
     "execution_count": 27,
     "metadata": {},
     "output_type": "execute_result"
    }
   ],
   "source": [
    "c"
   ]
  },
  {
   "cell_type": "markdown",
   "metadata": {},
   "source": [
    "# Using ML to figure out the real contributors"
   ]
  },
  {
   "cell_type": "code",
   "execution_count": 11,
   "metadata": {},
   "outputs": [
    {
     "data": {
      "text/html": [
       "<div>\n",
       "<style scoped>\n",
       "    .dataframe tbody tr th:only-of-type {\n",
       "        vertical-align: middle;\n",
       "    }\n",
       "\n",
       "    .dataframe tbody tr th {\n",
       "        vertical-align: top;\n",
       "    }\n",
       "\n",
       "    .dataframe thead th {\n",
       "        text-align: right;\n",
       "    }\n",
       "</style>\n",
       "<table border=\"1\" class=\"dataframe\">\n",
       "  <thead>\n",
       "    <tr style=\"text-align: right;\">\n",
       "      <th></th>\n",
       "      <th>treatment</th>\n",
       "      <th>treat_ratio2</th>\n",
       "      <th>treat_ratio3</th>\n",
       "      <th>treat_size25</th>\n",
       "      <th>treat_size50</th>\n",
       "      <th>treat_size100</th>\n",
       "      <th>treat_sizeno</th>\n",
       "      <th>treat_askd1</th>\n",
       "      <th>treat_askd2</th>\n",
       "      <th>treat_askd3</th>\n",
       "      <th>...</th>\n",
       "      <th>median_hhincome</th>\n",
       "      <th>powner</th>\n",
       "      <th>psch_atlstba</th>\n",
       "      <th>pop_propurban</th>\n",
       "      <th>Ratio condition</th>\n",
       "      <th>Treatment condition</th>\n",
       "      <th>Treatment size</th>\n",
       "      <th>Suggested size</th>\n",
       "      <th>State political affiliation</th>\n",
       "      <th>County political affiliation</th>\n",
       "    </tr>\n",
       "  </thead>\n",
       "  <tbody>\n",
       "    <tr>\n",
       "      <th>0</th>\n",
       "      <td>0</td>\n",
       "      <td>0</td>\n",
       "      <td>0</td>\n",
       "      <td>0</td>\n",
       "      <td>0</td>\n",
       "      <td>0</td>\n",
       "      <td>0</td>\n",
       "      <td>0</td>\n",
       "      <td>0</td>\n",
       "      <td>0</td>\n",
       "      <td>...</td>\n",
       "      <td>28517.0</td>\n",
       "      <td>0.499807</td>\n",
       "      <td>0.324528</td>\n",
       "      <td>1.000000</td>\n",
       "      <td>1:1 Ratio</td>\n",
       "      <td>Treatment 2</td>\n",
       "      <td>None</td>\n",
       "      <td>None</td>\n",
       "      <td>Blue</td>\n",
       "      <td>Blue</td>\n",
       "    </tr>\n",
       "    <tr>\n",
       "      <th>1</th>\n",
       "      <td>0</td>\n",
       "      <td>0</td>\n",
       "      <td>0</td>\n",
       "      <td>0</td>\n",
       "      <td>0</td>\n",
       "      <td>0</td>\n",
       "      <td>0</td>\n",
       "      <td>0</td>\n",
       "      <td>0</td>\n",
       "      <td>0</td>\n",
       "      <td>...</td>\n",
       "      <td>NaN</td>\n",
       "      <td>NaN</td>\n",
       "      <td>NaN</td>\n",
       "      <td>NaN</td>\n",
       "      <td>1:1 Ratio</td>\n",
       "      <td>Treatment 2</td>\n",
       "      <td>None</td>\n",
       "      <td>None</td>\n",
       "      <td>Blue</td>\n",
       "      <td>Red</td>\n",
       "    </tr>\n",
       "    <tr>\n",
       "      <th>2</th>\n",
       "      <td>1</td>\n",
       "      <td>0</td>\n",
       "      <td>0</td>\n",
       "      <td>0</td>\n",
       "      <td>0</td>\n",
       "      <td>1</td>\n",
       "      <td>0</td>\n",
       "      <td>1</td>\n",
       "      <td>0</td>\n",
       "      <td>0</td>\n",
       "      <td>...</td>\n",
       "      <td>51175.0</td>\n",
       "      <td>0.721941</td>\n",
       "      <td>0.192668</td>\n",
       "      <td>1.000000</td>\n",
       "      <td>1:1 Ratio</td>\n",
       "      <td>Treatment 1</td>\n",
       "      <td>Grant amount size: 100</td>\n",
       "      <td>Suggested size : Highest previous contribution</td>\n",
       "      <td>Blue</td>\n",
       "      <td>Blue</td>\n",
       "    </tr>\n",
       "    <tr>\n",
       "      <th>3</th>\n",
       "      <td>1</td>\n",
       "      <td>0</td>\n",
       "      <td>0</td>\n",
       "      <td>0</td>\n",
       "      <td>0</td>\n",
       "      <td>0</td>\n",
       "      <td>1</td>\n",
       "      <td>1</td>\n",
       "      <td>0</td>\n",
       "      <td>0</td>\n",
       "      <td>...</td>\n",
       "      <td>79269.0</td>\n",
       "      <td>0.920431</td>\n",
       "      <td>0.412142</td>\n",
       "      <td>1.000000</td>\n",
       "      <td>1:1 Ratio</td>\n",
       "      <td>Treatment 1</td>\n",
       "      <td>Grant amount size: None</td>\n",
       "      <td>Suggested size : Highest previous contribution</td>\n",
       "      <td>Blue</td>\n",
       "      <td>Red</td>\n",
       "    </tr>\n",
       "    <tr>\n",
       "      <th>4</th>\n",
       "      <td>1</td>\n",
       "      <td>0</td>\n",
       "      <td>0</td>\n",
       "      <td>0</td>\n",
       "      <td>1</td>\n",
       "      <td>0</td>\n",
       "      <td>0</td>\n",
       "      <td>1</td>\n",
       "      <td>0</td>\n",
       "      <td>0</td>\n",
       "      <td>...</td>\n",
       "      <td>40908.0</td>\n",
       "      <td>0.416072</td>\n",
       "      <td>0.439965</td>\n",
       "      <td>1.000000</td>\n",
       "      <td>1:1 Ratio</td>\n",
       "      <td>Treatment 1</td>\n",
       "      <td>Grant amount size: 50</td>\n",
       "      <td>Suggested size : Highest previous contribution</td>\n",
       "      <td>Red</td>\n",
       "      <td>Blue</td>\n",
       "    </tr>\n",
       "    <tr>\n",
       "      <th>...</th>\n",
       "      <td>...</td>\n",
       "      <td>...</td>\n",
       "      <td>...</td>\n",
       "      <td>...</td>\n",
       "      <td>...</td>\n",
       "      <td>...</td>\n",
       "      <td>...</td>\n",
       "      <td>...</td>\n",
       "      <td>...</td>\n",
       "      <td>...</td>\n",
       "      <td>...</td>\n",
       "      <td>...</td>\n",
       "      <td>...</td>\n",
       "      <td>...</td>\n",
       "      <td>...</td>\n",
       "      <td>...</td>\n",
       "      <td>...</td>\n",
       "      <td>...</td>\n",
       "      <td>...</td>\n",
       "      <td>...</td>\n",
       "      <td>...</td>\n",
       "    </tr>\n",
       "    <tr>\n",
       "      <th>50078</th>\n",
       "      <td>1</td>\n",
       "      <td>0</td>\n",
       "      <td>0</td>\n",
       "      <td>1</td>\n",
       "      <td>0</td>\n",
       "      <td>0</td>\n",
       "      <td>0</td>\n",
       "      <td>0</td>\n",
       "      <td>0</td>\n",
       "      <td>1</td>\n",
       "      <td>...</td>\n",
       "      <td>45047.0</td>\n",
       "      <td>0.771316</td>\n",
       "      <td>0.263744</td>\n",
       "      <td>1.000000</td>\n",
       "      <td>1:1 Ratio</td>\n",
       "      <td>Treatment 1</td>\n",
       "      <td>Grant amount size: 25</td>\n",
       "      <td>Suggested size : 1.75 * Highest previous contr...</td>\n",
       "      <td>Red</td>\n",
       "      <td>Blue</td>\n",
       "    </tr>\n",
       "    <tr>\n",
       "      <th>50079</th>\n",
       "      <td>0</td>\n",
       "      <td>0</td>\n",
       "      <td>0</td>\n",
       "      <td>0</td>\n",
       "      <td>0</td>\n",
       "      <td>0</td>\n",
       "      <td>0</td>\n",
       "      <td>0</td>\n",
       "      <td>0</td>\n",
       "      <td>0</td>\n",
       "      <td>...</td>\n",
       "      <td>74655.0</td>\n",
       "      <td>0.741931</td>\n",
       "      <td>0.586466</td>\n",
       "      <td>1.000000</td>\n",
       "      <td>1:1 Ratio</td>\n",
       "      <td>Treatment 2</td>\n",
       "      <td>None</td>\n",
       "      <td>None</td>\n",
       "      <td>Blue</td>\n",
       "      <td>Blue</td>\n",
       "    </tr>\n",
       "    <tr>\n",
       "      <th>50080</th>\n",
       "      <td>0</td>\n",
       "      <td>0</td>\n",
       "      <td>0</td>\n",
       "      <td>0</td>\n",
       "      <td>0</td>\n",
       "      <td>0</td>\n",
       "      <td>0</td>\n",
       "      <td>0</td>\n",
       "      <td>0</td>\n",
       "      <td>0</td>\n",
       "      <td>...</td>\n",
       "      <td>26667.0</td>\n",
       "      <td>0.778689</td>\n",
       "      <td>0.107930</td>\n",
       "      <td>0.000000</td>\n",
       "      <td>1:1 Ratio</td>\n",
       "      <td>Treatment 2</td>\n",
       "      <td>None</td>\n",
       "      <td>None</td>\n",
       "      <td>Blue</td>\n",
       "      <td>Red</td>\n",
       "    </tr>\n",
       "    <tr>\n",
       "      <th>50081</th>\n",
       "      <td>1</td>\n",
       "      <td>0</td>\n",
       "      <td>1</td>\n",
       "      <td>0</td>\n",
       "      <td>0</td>\n",
       "      <td>0</td>\n",
       "      <td>1</td>\n",
       "      <td>0</td>\n",
       "      <td>1</td>\n",
       "      <td>0</td>\n",
       "      <td>...</td>\n",
       "      <td>39530.0</td>\n",
       "      <td>0.733988</td>\n",
       "      <td>0.184768</td>\n",
       "      <td>0.634903</td>\n",
       "      <td>3:1 Ratio</td>\n",
       "      <td>Treatment 1</td>\n",
       "      <td>Grant amount size: None</td>\n",
       "      <td>Suggested size : 1.25 * Highest previous contr...</td>\n",
       "      <td>Blue</td>\n",
       "      <td>Red</td>\n",
       "    </tr>\n",
       "    <tr>\n",
       "      <th>50082</th>\n",
       "      <td>1</td>\n",
       "      <td>0</td>\n",
       "      <td>1</td>\n",
       "      <td>1</td>\n",
       "      <td>0</td>\n",
       "      <td>0</td>\n",
       "      <td>0</td>\n",
       "      <td>0</td>\n",
       "      <td>0</td>\n",
       "      <td>1</td>\n",
       "      <td>...</td>\n",
       "      <td>48744.0</td>\n",
       "      <td>0.717843</td>\n",
       "      <td>0.127941</td>\n",
       "      <td>0.994181</td>\n",
       "      <td>3:1 Ratio</td>\n",
       "      <td>Treatment 1</td>\n",
       "      <td>Grant amount size: 25</td>\n",
       "      <td>Suggested size : 1.75 * Highest previous contr...</td>\n",
       "      <td>Blue</td>\n",
       "      <td>Blue</td>\n",
       "    </tr>\n",
       "  </tbody>\n",
       "</table>\n",
       "<p>50083 rows × 50 columns</p>\n",
       "</div>"
      ],
      "text/plain": [
       "       treatment  treat_ratio2  treat_ratio3  treat_size25  treat_size50  \\\n",
       "0              0             0             0             0             0   \n",
       "1              0             0             0             0             0   \n",
       "2              1             0             0             0             0   \n",
       "3              1             0             0             0             0   \n",
       "4              1             0             0             0             1   \n",
       "...          ...           ...           ...           ...           ...   \n",
       "50078          1             0             0             1             0   \n",
       "50079          0             0             0             0             0   \n",
       "50080          0             0             0             0             0   \n",
       "50081          1             0             1             0             0   \n",
       "50082          1             0             1             1             0   \n",
       "\n",
       "       treat_size100  treat_sizeno  treat_askd1  treat_askd2  treat_askd3  \\\n",
       "0                  0             0            0            0            0   \n",
       "1                  0             0            0            0            0   \n",
       "2                  1             0            1            0            0   \n",
       "3                  0             1            1            0            0   \n",
       "4                  0             0            1            0            0   \n",
       "...              ...           ...          ...          ...          ...   \n",
       "50078              0             0            0            0            1   \n",
       "50079              0             0            0            0            0   \n",
       "50080              0             0            0            0            0   \n",
       "50081              0             1            0            1            0   \n",
       "50082              0             0            0            0            1   \n",
       "\n",
       "       ...  median_hhincome    powner  psch_atlstba  pop_propurban  \\\n",
       "0      ...          28517.0  0.499807      0.324528       1.000000   \n",
       "1      ...              NaN       NaN           NaN            NaN   \n",
       "2      ...          51175.0  0.721941      0.192668       1.000000   \n",
       "3      ...          79269.0  0.920431      0.412142       1.000000   \n",
       "4      ...          40908.0  0.416072      0.439965       1.000000   \n",
       "...    ...              ...       ...           ...            ...   \n",
       "50078  ...          45047.0  0.771316      0.263744       1.000000   \n",
       "50079  ...          74655.0  0.741931      0.586466       1.000000   \n",
       "50080  ...          26667.0  0.778689      0.107930       0.000000   \n",
       "50081  ...          39530.0  0.733988      0.184768       0.634903   \n",
       "50082  ...          48744.0  0.717843      0.127941       0.994181   \n",
       "\n",
       "       Ratio condition  Treatment condition           Treatment size  \\\n",
       "0            1:1 Ratio          Treatment 2                     None   \n",
       "1            1:1 Ratio          Treatment 2                     None   \n",
       "2            1:1 Ratio          Treatment 1   Grant amount size: 100   \n",
       "3            1:1 Ratio          Treatment 1  Grant amount size: None   \n",
       "4            1:1 Ratio          Treatment 1    Grant amount size: 50   \n",
       "...                ...                  ...                      ...   \n",
       "50078        1:1 Ratio          Treatment 1    Grant amount size: 25   \n",
       "50079        1:1 Ratio          Treatment 2                     None   \n",
       "50080        1:1 Ratio          Treatment 2                     None   \n",
       "50081        3:1 Ratio          Treatment 1  Grant amount size: None   \n",
       "50082        3:1 Ratio          Treatment 1    Grant amount size: 25   \n",
       "\n",
       "                                          Suggested size  \\\n",
       "0                                                   None   \n",
       "1                                                   None   \n",
       "2         Suggested size : Highest previous contribution   \n",
       "3         Suggested size : Highest previous contribution   \n",
       "4         Suggested size : Highest previous contribution   \n",
       "...                                                  ...   \n",
       "50078  Suggested size : 1.75 * Highest previous contr...   \n",
       "50079                                               None   \n",
       "50080                                               None   \n",
       "50081  Suggested size : 1.25 * Highest previous contr...   \n",
       "50082  Suggested size : 1.75 * Highest previous contr...   \n",
       "\n",
       "       State political affiliation  County political affiliation  \n",
       "0                             Blue                          Blue  \n",
       "1                             Blue                           Red  \n",
       "2                             Blue                          Blue  \n",
       "3                             Blue                           Red  \n",
       "4                              Red                          Blue  \n",
       "...                            ...                           ...  \n",
       "50078                          Red                          Blue  \n",
       "50079                         Blue                          Blue  \n",
       "50080                         Blue                           Red  \n",
       "50081                         Blue                           Red  \n",
       "50082                         Blue                          Blue  \n",
       "\n",
       "[50083 rows x 50 columns]"
      ]
     },
     "execution_count": 11,
     "metadata": {},
     "output_type": "execute_result"
    }
   ],
   "source": [
    "DROP_COLs ="
   ]
  },
  {
   "cell_type": "code",
   "execution_count": 25,
   "metadata": {},
   "outputs": [
    {
     "data": {
      "text/html": [
       "<div>\n",
       "<style scoped>\n",
       "    .dataframe tbody tr th:only-of-type {\n",
       "        vertical-align: middle;\n",
       "    }\n",
       "\n",
       "    .dataframe tbody tr th {\n",
       "        vertical-align: top;\n",
       "    }\n",
       "\n",
       "    .dataframe thead th {\n",
       "        text-align: right;\n",
       "    }\n",
       "</style>\n",
       "<table border=\"1\" class=\"dataframe\">\n",
       "  <thead>\n",
       "    <tr style=\"text-align: right;\">\n",
       "      <th></th>\n",
       "      <th>level_0</th>\n",
       "      <th>level_1</th>\n",
       "      <th>level_2</th>\n",
       "      <th>level_3</th>\n",
       "      <th>level_4</th>\n",
       "      <th>level_5</th>\n",
       "      <th>level_6</th>\n",
       "      <th>level_7</th>\n",
       "      <th>level_8</th>\n",
       "      <th>level_9</th>\n",
       "      <th>...</th>\n",
       "      <th>level_33</th>\n",
       "      <th>level_34</th>\n",
       "      <th>level_35</th>\n",
       "      <th>level_36</th>\n",
       "      <th>level_37</th>\n",
       "      <th>level_38</th>\n",
       "      <th>level_39</th>\n",
       "      <th>level_40</th>\n",
       "      <th>level_41</th>\n",
       "      <th>level_42</th>\n",
       "    </tr>\n",
       "  </thead>\n",
       "  <tbody>\n",
       "    <tr>\n",
       "      <th>0</th>\n",
       "      <td>_\u0010\u0013WebResourceMIMEType_\u0010\u001bWebResourceTextEnco...</td>\n",
       "      <td>treat_ratio2</td>\n",
       "      <td>treat_ratio3</td>\n",
       "      <td>treat_size25</td>\n",
       "      <td>treat_size50</td>\n",
       "      <td>treat_size100</td>\n",
       "      <td>treat_sizeno</td>\n",
       "      <td>treat_askd1</td>\n",
       "      <td>treat_askd2</td>\n",
       "      <td>treat_askd3</td>\n",
       "      <td>...</td>\n",
       "      <td>blue0</td>\n",
       "      <td>redcty</td>\n",
       "      <td>bluecty</td>\n",
       "      <td>pwhite</td>\n",
       "      <td>pblack</td>\n",
       "      <td>page18_39</td>\n",
       "      <td>ave_hh_sz</td>\n",
       "      <td>median_hhincome</td>\n",
       "      <td>powner</td>\n",
       "      <td>psch_atlstba</td>\n",
       "    </tr>\n",
       "    <tr>\n",
       "      <th>1</th>\n",
       "      <td>0</td>\n",
       "      <td>0</td>\n",
       "      <td>0</td>\n",
       "      <td>0</td>\n",
       "      <td>0</td>\n",
       "      <td>0</td>\n",
       "      <td>0</td>\n",
       "      <td>0</td>\n",
       "      <td>0</td>\n",
       "      <td>0</td>\n",
       "      <td>...</td>\n",
       "      <td>1</td>\n",
       "      <td>0</td>\n",
       "      <td>1</td>\n",
       "      <td>.44649345</td>\n",
       "      <td>.52776921</td>\n",
       "      <td>.31759128</td>\n",
       "      <td>2.0999999</td>\n",
       "      <td>28517</td>\n",
       "      <td>.49980718</td>\n",
       "      <td>.3245278</td>\n",
       "    </tr>\n",
       "    <tr>\n",
       "      <th>2</th>\n",
       "      <td>0</td>\n",
       "      <td>0</td>\n",
       "      <td>0</td>\n",
       "      <td>0</td>\n",
       "      <td>0</td>\n",
       "      <td>0</td>\n",
       "      <td>0</td>\n",
       "      <td>0</td>\n",
       "      <td>0</td>\n",
       "      <td>0</td>\n",
       "      <td>...</td>\n",
       "      <td>1</td>\n",
       "      <td>1</td>\n",
       "      <td>0</td>\n",
       "      <td>NaN</td>\n",
       "      <td>NaN</td>\n",
       "      <td>NaN</td>\n",
       "      <td>NaN</td>\n",
       "      <td>NaN</td>\n",
       "      <td>NaN</td>\n",
       "      <td>NaN</td>\n",
       "    </tr>\n",
       "    <tr>\n",
       "      <th>3</th>\n",
       "      <td>1</td>\n",
       "      <td>0</td>\n",
       "      <td>0</td>\n",
       "      <td>0</td>\n",
       "      <td>0</td>\n",
       "      <td>1</td>\n",
       "      <td>0</td>\n",
       "      <td>1</td>\n",
       "      <td>0</td>\n",
       "      <td>0</td>\n",
       "      <td>...</td>\n",
       "      <td>1</td>\n",
       "      <td>0</td>\n",
       "      <td>1</td>\n",
       "      <td>.93570644</td>\n",
       "      <td>.011948366</td>\n",
       "      <td>.27612817</td>\n",
       "      <td>2.48</td>\n",
       "      <td>51175</td>\n",
       "      <td>.72194058</td>\n",
       "      <td>.19266793</td>\n",
       "    </tr>\n",
       "    <tr>\n",
       "      <th>4</th>\n",
       "      <td>1</td>\n",
       "      <td>0</td>\n",
       "      <td>0</td>\n",
       "      <td>0</td>\n",
       "      <td>0</td>\n",
       "      <td>0</td>\n",
       "      <td>1</td>\n",
       "      <td>1</td>\n",
       "      <td>0</td>\n",
       "      <td>0</td>\n",
       "      <td>...</td>\n",
       "      <td>1</td>\n",
       "      <td>1</td>\n",
       "      <td>0</td>\n",
       "      <td>.88833094</td>\n",
       "      <td>.010760401</td>\n",
       "      <td>.27941176</td>\n",
       "      <td>2.6500001</td>\n",
       "      <td>79269</td>\n",
       "      <td>.92043138</td>\n",
       "      <td>.41214216</td>\n",
       "    </tr>\n",
       "    <tr>\n",
       "      <th>...</th>\n",
       "      <td>...</td>\n",
       "      <td>...</td>\n",
       "      <td>...</td>\n",
       "      <td>...</td>\n",
       "      <td>...</td>\n",
       "      <td>...</td>\n",
       "      <td>...</td>\n",
       "      <td>...</td>\n",
       "      <td>...</td>\n",
       "      <td>...</td>\n",
       "      <td>...</td>\n",
       "      <td>...</td>\n",
       "      <td>...</td>\n",
       "      <td>...</td>\n",
       "      <td>...</td>\n",
       "      <td>...</td>\n",
       "      <td>...</td>\n",
       "      <td>...</td>\n",
       "      <td>...</td>\n",
       "      <td>...</td>\n",
       "      <td>...</td>\n",
       "    </tr>\n",
       "    <tr>\n",
       "      <th>50081</th>\n",
       "      <td>0</td>\n",
       "      <td>0</td>\n",
       "      <td>0</td>\n",
       "      <td>0</td>\n",
       "      <td>0</td>\n",
       "      <td>0</td>\n",
       "      <td>0</td>\n",
       "      <td>0</td>\n",
       "      <td>0</td>\n",
       "      <td>0</td>\n",
       "      <td>...</td>\n",
       "      <td>1</td>\n",
       "      <td>1</td>\n",
       "      <td>0</td>\n",
       "      <td>0.9</td>\n",
       "      <td>0.0213115</td>\n",
       "      <td>0.178689</td>\n",
       "      <td>2.36</td>\n",
       "      <td>26667</td>\n",
       "      <td>0.778689</td>\n",
       "      <td>0.10793</td>\n",
       "    </tr>\n",
       "    <tr>\n",
       "      <th>50082</th>\n",
       "      <td>1</td>\n",
       "      <td>0</td>\n",
       "      <td>1</td>\n",
       "      <td>0</td>\n",
       "      <td>0</td>\n",
       "      <td>0</td>\n",
       "      <td>1</td>\n",
       "      <td>0</td>\n",
       "      <td>1</td>\n",
       "      <td>0</td>\n",
       "      <td>...</td>\n",
       "      <td>1</td>\n",
       "      <td>1</td>\n",
       "      <td>0</td>\n",
       "      <td>0.917206</td>\n",
       "      <td>0.00825709</td>\n",
       "      <td>0.225619</td>\n",
       "      <td>2.57</td>\n",
       "      <td>39530</td>\n",
       "      <td>0.733988</td>\n",
       "      <td>0.184768</td>\n",
       "    </tr>\n",
       "    <tr>\n",
       "      <th>50083</th>\n",
       "      <td>1</td>\n",
       "      <td>0</td>\n",
       "      <td>1</td>\n",
       "      <td>1</td>\n",
       "      <td>0</td>\n",
       "      <td>0</td>\n",
       "      <td>0</td>\n",
       "      <td>0</td>\n",
       "      <td>0</td>\n",
       "      <td>1</td>\n",
       "      <td>...</td>\n",
       "      <td>1</td>\n",
       "      <td>0</td>\n",
       "      <td>1</td>\n",
       "      <td>0.530023</td>\n",
       "      <td>0.0741125</td>\n",
       "      <td>0.340698</td>\n",
       "      <td>3.7</td>\n",
       "      <td>48744</td>\n",
       "      <td>0.717843</td>\n",
       "      <td>0.127941</td>\n",
       "    </tr>\n",
       "    <tr>\n",
       "      <th>50084</th>\n",
       "      <td>&lt;/pre&gt;&lt;/body&gt;&lt;/html&gt;</td>\n",
       "      <td>NaN</td>\n",
       "      <td>NaN</td>\n",
       "      <td>NaN</td>\n",
       "      <td>NaN</td>\n",
       "      <td>NaN</td>\n",
       "      <td>NaN</td>\n",
       "      <td>NaN</td>\n",
       "      <td>NaN</td>\n",
       "      <td>NaN</td>\n",
       "      <td>...</td>\n",
       "      <td>NaN</td>\n",
       "      <td>NaN</td>\n",
       "      <td>NaN</td>\n",
       "      <td>NaN</td>\n",
       "      <td>NaN</td>\n",
       "      <td>NaN</td>\n",
       "      <td>NaN</td>\n",
       "      <td>NaN</td>\n",
       "      <td>NaN</td>\n",
       "      <td>NaN</td>\n",
       "    </tr>\n",
       "    <tr>\n",
       "      <th>50085</th>\n",
       "      <td>NaN</td>\n",
       "      <td>NaN</td>\n",
       "      <td>NaN</td>\n",
       "      <td>NaN</td>\n",
       "      <td>NaN</td>\n",
       "      <td>NaN</td>\n",
       "      <td>NaN</td>\n",
       "      <td>NaN</td>\n",
       "      <td>NaN</td>\n",
       "      <td>NaN</td>\n",
       "      <td>...</td>\n",
       "      <td>NaN</td>\n",
       "      <td>NaN</td>\n",
       "      <td>NaN</td>\n",
       "      <td>NaN</td>\n",
       "      <td>NaN</td>\n",
       "      <td>NaN</td>\n",
       "      <td>NaN</td>\n",
       "      <td>NaN</td>\n",
       "      <td>NaN</td>\n",
       "      <td>NaN</td>\n",
       "    </tr>\n",
       "  </tbody>\n",
       "</table>\n",
       "<p>50086 rows × 43 columns</p>\n",
       "</div>"
      ],
      "text/plain": [
       "                                                 level_0       level_1  \\\n",
       "0      \n",
       "\n",
       "_\u0010\u0013WebResourceMIMEType_\u0010\u001bWebResourceTextEnco...  treat_ratio2   \n",
       "1                                                      0             0   \n",
       "2                                                      0             0   \n",
       "3                                                      1             0   \n",
       "4                                                      1             0   \n",
       "...                                                  ...           ...   \n",
       "50081                                                  0             0   \n",
       "50082                                                  1             0   \n",
       "50083                                                  1             0   \n",
       "50084                               </pre></body></html>           NaN   \n",
       "50085                                                NaN           NaN   \n",
       "\n",
       "            level_2       level_3       level_4        level_5       level_6  \\\n",
       "0      treat_ratio3  treat_size25  treat_size50  treat_size100  treat_sizeno   \n",
       "1                 0             0             0              0             0   \n",
       "2                 0             0             0              0             0   \n",
       "3                 0             0             0              1             0   \n",
       "4                 0             0             0              0             1   \n",
       "...             ...           ...           ...            ...           ...   \n",
       "50081             0             0             0              0             0   \n",
       "50082             1             0             0              0             1   \n",
       "50083             1             1             0              0             0   \n",
       "50084           NaN           NaN           NaN            NaN           NaN   \n",
       "50085           NaN           NaN           NaN            NaN           NaN   \n",
       "\n",
       "           level_7      level_8      level_9  ... level_33 level_34 level_35  \\\n",
       "0      treat_askd1  treat_askd2  treat_askd3  ...    blue0   redcty  bluecty   \n",
       "1                0            0            0  ...        1        0        1   \n",
       "2                0            0            0  ...        1        1        0   \n",
       "3                1            0            0  ...        1        0        1   \n",
       "4                1            0            0  ...        1        1        0   \n",
       "...            ...          ...          ...  ...      ...      ...      ...   \n",
       "50081            0            0            0  ...        1        1        0   \n",
       "50082            0            1            0  ...        1        1        0   \n",
       "50083            0            0            1  ...        1        0        1   \n",
       "50084          NaN          NaN          NaN  ...      NaN      NaN      NaN   \n",
       "50085          NaN          NaN          NaN  ...      NaN      NaN      NaN   \n",
       "\n",
       "        level_36    level_37   level_38   level_39         level_40  \\\n",
       "0         pwhite      pblack  page18_39  ave_hh_sz  median_hhincome   \n",
       "1      .44649345   .52776921  .31759128  2.0999999            28517   \n",
       "2            NaN         NaN        NaN        NaN              NaN   \n",
       "3      .93570644  .011948366  .27612817       2.48            51175   \n",
       "4      .88833094  .010760401  .27941176  2.6500001            79269   \n",
       "...          ...         ...        ...        ...              ...   \n",
       "50081        0.9   0.0213115   0.178689       2.36            26667   \n",
       "50082   0.917206  0.00825709   0.225619       2.57            39530   \n",
       "50083   0.530023   0.0741125   0.340698        3.7            48744   \n",
       "50084        NaN         NaN        NaN        NaN              NaN   \n",
       "50085        NaN         NaN        NaN        NaN              NaN   \n",
       "\n",
       "        level_41      level_42  \n",
       "0         powner  psch_atlstba  \n",
       "1      .49980718      .3245278  \n",
       "2            NaN           NaN  \n",
       "3      .72194058     .19266793  \n",
       "4      .92043138     .41214216  \n",
       "...          ...           ...  \n",
       "50081   0.778689       0.10793  \n",
       "50082   0.733988      0.184768  \n",
       "50083   0.717843      0.127941  \n",
       "50084        NaN           NaN  \n",
       "50085        NaN           NaN  \n",
       "\n",
       "[50086 rows x 43 columns]"
      ]
     },
     "execution_count": 25,
     "metadata": {},
     "output_type": "execute_result"
    }
   ],
   "source": [
    "c.reset_index()"
   ]
  },
  {
   "cell_type": "code",
   "execution_count": null,
   "metadata": {},
   "outputs": [],
   "source": []
  }
 ],
 "metadata": {
  "kernelspec": {
   "display_name": "Python 3",
   "language": "python",
   "name": "python3"
  },
  "language_info": {
   "codemirror_mode": {
    "name": "ipython",
    "version": 3
   },
   "file_extension": ".py",
   "mimetype": "text/x-python",
   "name": "python",
   "nbconvert_exporter": "python",
   "pygments_lexer": "ipython3",
   "version": "3.8.3"
  }
 },
 "nbformat": 4,
 "nbformat_minor": 4
}
